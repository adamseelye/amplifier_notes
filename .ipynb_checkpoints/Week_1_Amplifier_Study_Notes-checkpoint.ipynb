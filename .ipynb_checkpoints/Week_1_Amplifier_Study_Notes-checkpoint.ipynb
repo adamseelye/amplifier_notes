{
 "cells": [
  {
   "cell_type": "markdown",
   "id": "c8c3fdb2",
   "metadata": {},
   "source": [
    "# Week 1 Revature\n",
    "\n"
   ]
  },
  {
   "cell_type": "markdown",
   "id": "6f2e4fdf",
   "metadata": {},
   "source": [
    "> ### Time sheets due by end of week Friday 3:00 Eastern"
   ]
  },
  {
   "cell_type": "markdown",
   "id": "b19f520d",
   "metadata": {},
   "source": [
    "### Before you ask a question: \n",
    "> Google\n",
    "\n",
    "> Stack Overflow\n",
    "\n",
    "> Try to solve for at least 15 mins"
   ]
  },
  {
   "cell_type": "markdown",
   "id": "a673e802",
   "metadata": {},
   "source": [
    "### Every friday there will be a Hacker Rank challenge\n",
    "> [Python](https://www.hackerrank.com/domains/python)\n",
    "\n",
    "> [SQL](https://www.hackerrank.com/domains/sql)"
   ]
  },
  {
   "cell_type": "markdown",
   "id": "66f6348a",
   "metadata": {},
   "source": [
    "# The Four Pillars of Object-Oriented Programming"
   ]
  },
  {
   "cell_type": "markdown",
   "id": "cb300ee4",
   "metadata": {},
   "source": [
    "## Abstraction\n",
    "\n",
    "> Abstraction is the process of hiding the implementation details of a program. In this case, we are hiding the implementation details of a car. Abstraction is achieved by defining a method that returns a string that contains the basic information about the car. "
   ]
  },
  {
   "cell_type": "code",
   "execution_count": 57,
   "id": "46887968",
   "metadata": {},
   "outputs": [],
   "source": [
    "#  Example of Abstraction \n",
    "class Car:\n",
    "        def __init__(self, make, model, year):\n",
    "                self.make = make\n",
    "                self.model = model\n",
    "                self.year = year\n",
    "                self.odometer_reading = 0\n",
    "\n",
    "        def get_descriptive_name(self):\n",
    "                long_name = str(self.year) + ' ' + self.make + ' ' + self.model\n",
    "                return long_name.title()\n",
    "\n",
    "        def read_odometer(self):\n",
    "                print(\"This car has \" + str(self.odometer_reading) + \" miles on it.\")\n",
    "\n",
    "        def update_odometer(self, mileage):\n",
    "                if mileage >= self.odometer_reading:\n",
    "                        self.odometer_reading = mileage\n",
    "                else:\n",
    "                        print(\"You can't roll back an odometer!\")\n",
    "\n",
    "        def increment_odometer(self, miles):\n",
    "                self.odometer_reading += miles"
   ]
  },
  {
   "cell_type": "markdown",
   "id": "dbc54523",
   "metadata": {},
   "source": [
    "## Encapsulation\n",
    "> In the example we have created a class named Employee. Encapuslation is the process of hiding the implementation details of a class. We have created a constructor method that takes in three arguments, first, last and pay."
   ]
  },
  {
   "cell_type": "code",
   "execution_count": 58,
   "id": "4babeb7e",
   "metadata": {},
   "outputs": [
    {
     "name": "stdout",
     "output_type": "stream",
     "text": [
      "Employee('John', 'Smith', 50000)\n"
     ]
    }
   ],
   "source": [
    "# Example of Encapsulation\n",
    "class Employee:\n",
    "    \n",
    "# The \"dunder\" (double underscore, __) prefix prevents access to attribute, except through accessors.\n",
    "        def __init__(self, first, last, pay):\n",
    "                self.first = first\n",
    "                self.last = last\n",
    "                self.pay = pay\n",
    "                self.email = first + '.' + last + '@company.com'\n",
    "    \n",
    "        # private employee method\n",
    "        def __repr__(self):\n",
    "                return \"Employee('{}', '{}', {})\".format(self.first, self.last, self.pay)\n",
    "        \n",
    "        # Not private\n",
    "        def fullname(self):\n",
    "                return '{} {}'.format(self.first, self.last)\n",
    "            \n",
    "\n",
    "\n",
    "john = Employee('John', 'Smith', 50000)\n",
    "print(john)"
   ]
  },
  {
   "cell_type": "markdown",
   "id": "40432a81",
   "metadata": {},
   "source": [
    "## Inheritance\n",
    "\n",
    "> Inheritance is the process of taking one class and using it as a blueprint for creating a new class. The new class inherits all the properties and methods of the class it is inheriting from. In this example, we are inheriting from the Car class. We are also defining a new method, describe_battery, which is specific to the ElectricCar class."
   ]
  },
  {
   "cell_type": "code",
   "execution_count": 59,
   "id": "91e32c65",
   "metadata": {},
   "outputs": [],
   "source": [
    "# Parent class\n",
    "class Car:\n",
    "        def __init__(self, make, model, year):\n",
    "                self.make = make\n",
    "                self.model = model\n",
    "                self.year = year\n",
    "                self.odometer_reading = 0\n",
    "\n",
    "        def get_descriptive_name(self):\n",
    "                long_name = str(self.year) + ' ' + self.make + ' ' + self.model\n",
    "                return long_name.title()\n",
    "\n",
    "        def read_odometer(self):\n",
    "                print(\"This car has \" + str(self.odometer_reading) + \" miles on it.\")\n",
    "\n",
    "        def update_odometer(self, mileage):\n",
    "                if mileage >= self.odometer_reading:\n",
    "                        self.odometer_reading = mileage\n",
    "                else:\n",
    "                        print(\"You can't roll back an odometer!\")\n",
    "\n",
    "        def increment_odometer(self, miles):\n",
    "                self.odometer_reading += miles\n",
    "                \n",
    "# Example of Inheritance\n",
    "class ElectricCar(Car):\n",
    "        def __init__(self, make, model, year):\n",
    "                super().__init__(make, model, year)\n",
    "                self.battery_size = 70\n",
    "        def describe_battery(self):\n",
    "                print(\"This car has a \" + str(self.battery_size) + \"-kWh battery.\")"
   ]
  },
  {
   "cell_type": "markdown",
   "id": "b12f9cf2",
   "metadata": {},
   "source": [
    "## Polymorphism\n",
    "\n",
    "> Polymorphism is the ability of an object to take on many forms. A polymorhic object can take on many forms. In this example, we are creating a Dog object and calling the speak method on it. The speak method is defined in the Animal class, but it is overridden in the Dog class. This means that the Dog class is able to override the speak method in the Animal class. "
   ]
  },
  {
   "cell_type": "code",
   "execution_count": 60,
   "id": "d986e1ad",
   "metadata": {},
   "outputs": [],
   "source": [
    "class Animal:\n",
    "        def __init__(self, name):\n",
    "                self.name = name\n",
    "        def speak(self):\n",
    "                raise NotImplementedError(\"Subclass must implement this abstract method\")\n",
    "                \n",
    "# Example of Polymorphism\n",
    "class Dog(Animal):\n",
    "        def speak(self):\n",
    "                return self.name + ' says Woof!'"
   ]
  },
  {
   "cell_type": "markdown",
   "id": "391a8909",
   "metadata": {},
   "source": [
    "# The Five V's of Big Data"
   ]
  },
  {
   "cell_type": "markdown",
   "id": "2086f27e",
   "metadata": {},
   "source": [
    "Big data is a collection of data from many different sources and is often described by five characteristics: volume, value, variety, velocity, and veracity."
   ]
  },
  {
   "cell_type": "markdown",
   "id": "a6eb29d1",
   "metadata": {},
   "source": [
    "## Volume\n",
    "> the size and amounts of big data that companies manage and analyze."
   ]
  },
  {
   "cell_type": "markdown",
   "id": "897cb78c",
   "metadata": {},
   "source": [
    "## Value\n",
    "\n",
    ">the most important “V” from the perspective of the business, the value of big data usually comes from insight discovery and pattern recognition that lead to more effective operations, stronger customer relationships, and other clear and quantifiable business benefits.\n",
    "\n",
    "### The emerging V is value.\n",
    "> The value comes from turning the data into valuable, actionable information. The value of data is derived from processing and creating useful information that leads to valuable business insights."
   ]
  },
  {
   "cell_type": "markdown",
   "id": "2fa80adf",
   "metadata": {},
   "source": [
    "## Variety\n",
    "\n",
    "> The diversity and range of different data types, including unstructured data, semi-structured data, and raw data."
   ]
  },
  {
   "cell_type": "markdown",
   "id": "71935eb9",
   "metadata": {},
   "source": [
    "## Types of data:\n",
    "\n",
    "### Structured data\n",
    "\n",
    "> Structured data is data whose elements are addressable for effective analysis. It has been organized into a formatted repository that is typically a database. It concerns all data stored in database SQL in a table with rows and columns. They have relational keys and can easily be mapped into pre-designed fields. Today, those data are most processed in the development and most straightforward way to manage information. Example: Relational data. \n",
    " \n",
    "### Semi-Structured data\n",
    "\n",
    "> Semi-structured data is information that does not reside in a relational database but has some organizational properties that make it easier to analyze. With some processes, you can store them in the relation database (it could be very hard for some kind of semi-structured data), but Semi-structured exist to ease space. Example: XML data. \n",
    " \n",
    "### Unstructured data \n",
    "\n",
    "> Unstructured data is data that is not organized in a predefined manner or without a predefined data model. Thus it is not a good fit for a mainstream relational database. However, there are alternative platforms for storing and managing. Example: Word, PDF, Text, Media logs. "
   ]
  },
  {
   "cell_type": "markdown",
   "id": "34f9058b",
   "metadata": {},
   "source": [
    "## Velocity\n",
    "> The speed at which companies receive, store and manage data – e.g., the specific number of social media posts or search queries received within a day, an hour, or another unit of time."
   ]
  },
  {
   "cell_type": "markdown",
   "id": "338dec0d",
   "metadata": {},
   "source": [
    "## Veracity \n",
    "\n",
    "> The “truth” or accuracy of data and information assets, which often determines executive-level confidence."
   ]
  },
  {
   "cell_type": "markdown",
   "id": "79af40e8",
   "metadata": {},
   "source": [
    "# ETL\n",
    "\n",
    "## Extract\n",
    "\n",
    "> Data extraction involves extracting data from homogeneous or heterogeneous sources; data transformation processes data by data cleaning and transforming it into a proper storage format/structure for the purposes of querying and analysis; finally, data loading describes the insertion of data into the final target database such as an operational data store, a data mart, data lake or a data warehouse.\n",
    "\n",
    "## Transform\n",
    "\n",
    "> In the data transformation stage, a series of rules or functions are applied to the extracted data in order to prepare it for loading into the end target.\n",
    "\n",
    "> An important function of transformation is data cleansing, which aims to pass only \"proper\" data to the target. The challenge when different systems interact is in the relevant systems' interfacing and communicating. Character sets that may be available in one system may not be so in others.\n",
    "\n",
    "## Load\n",
    "\n",
    "> The load phase loads the data into the end target, which can be any data store including a simple delimited flat file or a data warehouse.[5] Depending on the requirements of the organization, this process varies widely. Some data warehouses may overwrite existing information with cumulative information; updating extracted data is frequently done on a daily, weekly, or monthly basis."
   ]
  },
  {
   "cell_type": "markdown",
   "id": "a3d20340",
   "metadata": {},
   "source": [
    "# Software Developement life cycle"
   ]
  },
  {
   "cell_type": "markdown",
   "id": "6cf610be",
   "metadata": {},
   "source": [
    "## Data Visualization\n",
    "### Tableau\n",
    "### Zeppelin"
   ]
  },
  {
   "cell_type": "markdown",
   "id": "0738db44",
   "metadata": {},
   "source": [
    "![alt text](./SDLC.jpeg)"
   ]
  },
  {
   "cell_type": "markdown",
   "id": "d085fa8a",
   "metadata": {},
   "source": [
    "## Generation\n",
    "For the data life cycle to begin, data must first be generated. Otherwise, the following steps can’t be initiated.\n",
    "\n",
    "> Data generation occurs regardless of whether you’re aware of it, especially in our increasingly online world. Some of this data is generated by your organization, some by your customers, and some by third parties you may or may not be aware of. Every sale, purchase, hire, communication, interaction—everything generates data. Given the proper attention, this data can often lead to powerful insights that allow you to better serve your customers and become more effective in your role.\n"
   ]
  },
  {
   "cell_type": "markdown",
   "id": "54f084f0",
   "metadata": {},
   "source": [
    "## Collection\n",
    "Not all of the data that’s generated every day is collected or used. It’s up to your data team to identify what information should be captured and the best means for doing so, and what data is unnecessary or irrelevant to the project at hand.\n",
    "\n",
    "### You can collect data in a variety of ways, including:\n",
    "\n",
    "* Forms: Web forms, client or customer intake forms, vendor forms, and human resources applications are some of the most common ways businesses generate data.\n",
    "\n",
    "* Surveys: Surveys can be an effective way to gather vast amounts of information from a large number of respondents.\n",
    "\n",
    "* Interviews: Interviews and focus groups conducted with customers, users, or job applicants offer opportunities to gather qualitative and subjective data that may be difficult to capture through other means.\n",
    "\n",
    "* Direct Observation: Observing how a customer interacts with your website, application, or product can be an effective way to gather data that may not be offered through the methods above.\n",
    "\n",
    "> It’s important to note that many organizations take a broad approach to data collection, capturing as much data as possible from each interaction and storing it for potential use. While drawing from this supply is certainly an option, it’s always important to start by creating a plan to capture the data you know is critical to your project.\n"
   ]
  },
  {
   "cell_type": "markdown",
   "id": "e8145ad9",
   "metadata": {},
   "source": [
    "## Processing\n",
    "Once data has been collected, it must be processed. Data processing can refer to various activities, including:\n",
    "\n",
    "* Data wrangling, in which a data set is cleaned and transformed from its raw form into something more accessible and usable. This is also known as data cleaning, data munging, or data remediation.\n",
    "\n",
    "* Data compression, in which data is transformed into a format that can be more efficiently stored.\n",
    "\n",
    "* Data encryption, in which data is translated into another form of code to protect it from privacy concerns.\n",
    "\n",
    "> Even the simple act of taking a printed form and digitizing it can be considered a form of data processing.\n"
   ]
  },
  {
   "cell_type": "markdown",
   "id": "4bf88b5f",
   "metadata": {},
   "source": [
    "## Storage\n",
    "\n",
    "After data has been collected and processed, it must be stored for future use. This is most commonly achieved through the creation of databases or datasets. These datasets may then be stored in the cloud, on servers, or using another form of physical storage like a hard drive, CD, cassette, or floppy disk.\n",
    "\n",
    "> When determining how to best store data for your organization, it’s important to build in a certain level of redundancy to ensure that a copy of your data will be protected and accessible, even if the original source becomes corrupted or compromised.\n"
   ]
  },
  {
   "cell_type": "markdown",
   "id": "e95aa1ca",
   "metadata": {},
   "source": [
    "## Management\n",
    "\n",
    "Data management, also called database management, involves organizing, storing, and retrieving data as necessary over the life of a data project. While referred to here as a “step,” it’s an ongoing process that takes place from the beginning through the end of a project. Data management includes everything from storage and encryption to implementing access logs and changelogs that track who has accessed data and what changes they may have made.\n"
   ]
  },
  {
   "cell_type": "markdown",
   "id": "7ebe808b",
   "metadata": {},
   "source": [
    "## Analysis\n",
    "\n",
    "Data analysis refers to processes that attempt to glean meaningful insights from raw data. Analysts and data scientists use different tools and strategies to conduct these analyses. Some of the more commonly used methods include statistical modeling, algorithms, artificial intelligence, data mining, and machine learning.\n",
    "\n",
    "Exactly who performs an analysis depends on the specific challenge being addressed, as well as the size of your organization’s data team. Business analysts, data analysts, and data scientists can all play a role.\n"
   ]
  },
  {
   "cell_type": "markdown",
   "id": "89ced8a5",
   "metadata": {},
   "source": [
    "## Visualization\n",
    "\n",
    "Data visualization refers to the process of creating graphical representations of your information, typically through the use of one or more visualization tools. Visualizing data makes it easier to quickly communicate your analysis to a wider audience both inside and outside your organization. The form your visualization takes depends on the data you’re working with, as well as the story you want to communicate.\n",
    "\n",
    "> While technically not a required step for all data projects, data visualization has become an increasingly important part of the data life cycle.\n"
   ]
  },
  {
   "cell_type": "markdown",
   "id": "99a2fe4b",
   "metadata": {},
   "source": [
    "## Interpretation\n",
    "\n",
    "Finally, the interpretation phase of the data life cycle provides the opportunity to make sense of your analysis and visualization. Beyond simply presenting the data, this is when you investigate it through the lens of your expertise and understanding. Your interpretation may not only include a description or explanation of what the data shows but, more importantly, what the implications may be.\n"
   ]
  },
  {
   "cell_type": "markdown",
   "id": "bf93a555",
   "metadata": {},
   "source": [
    "# Python Facts\n",
    "\n",
    "## Python is a \"High Level\" language\n",
    "\n",
    "> this means Python automates memory management for you. It assigns and frees memory for you so that you can focus on your coding. Freeing memory is called garbage collection\n",
    "\n",
    "> this allows for fast programming, but the tradoff is optimization: you can not min/max your performance efficency with a high level language like you can with a language like C++.\n",
    "\n",
    "## Python is a \"Dynamic\" language\n",
    "\n",
    "> You do not need to tell your code what type of data you are working with: Python handles that for you.\n",
    "\n",
    "> This is useful for speed and readability, but it has drawbacks. If you read code someone else developed you might have a harder time understanding what kind of data you are working with. \n",
    "\n",
    "> Not having type security can lead to unexpected outcomes in your code\n",
    "\n",
    "## Python is a \"Strongly Typed\" language\n",
    "\n",
    "> Python will not implicitly coerce your data types: you must reassign variables if you want to change their type\n",
    "\n",
    "## Python is an \"Interpreted\" language\n",
    "\n",
    "> Python code is compiled and executed line by line, as opposed to the entirety of the code being compiled before run (like Java).\n",
    "> This is generally slower than a compiled language, but it does allow you to modularly test your application (can test one part without having to compile other parts)\n",
    "\n",
    "> You lose the benefits of having a compiler check your code for errors and/or optimize your code"
   ]
  },
  {
   "cell_type": "markdown",
   "id": "3cf376bd",
   "metadata": {},
   "source": [
    "# Python Interview Questions for Data Science"
   ]
  },
  {
   "cell_type": "markdown",
   "id": "8a455830",
   "metadata": {},
   "source": [
    "## 1) Is Python an object-oriented language? What is object-oriented programming? \n",
    "\n",
    "**Is Python an object-oriented language?**\n",
    "\n",
    "> Python is Object Oriented. With the exception of control flow, everything in Python is an object.\n",
    "\n",
    "**What is object oriented programming?**\n",
    "\n",
    "> Object-oriented programming (OOP) is a programming paradigm based on the concept of \"objects\", which can contain data and code: data in the form of fields (often known as attributes or properties), and code, in the form of procedures (often known as methods)."
   ]
  },
  {
   "cell_type": "markdown",
   "id": "6467ac36",
   "metadata": {},
   "source": [
    "## 2) What is a Python module? How is it different from libraries?\n",
    "\n",
    "**What is a Python module?**\n",
    "\n",
    "> A module is a file containing Python definitions and statements. The file is saved in the directory that contains the modules. The module name is the same as the file name, with the file extension removed. The module name is the name that you use to import the module into your program.\n",
    "\n",
    "**How is a python module different from a library?**\n",
    ">  A python module is different from a library in that a module is a collection of functions and data. A library is a collection of pre-written code that you can use in your program. "
   ]
  },
  {
   "cell_type": "markdown",
   "id": "a9078464",
   "metadata": {},
   "source": [
    "## 3) What is PEP8?\n",
    "\n",
    "**What is PEP8**\n",
    "\n",
    "> PEP8 is a style guide for Python code. It defines a set of rules for Python code. These rules are used by the Python interpreter to validate the code. "
   ]
  },
  {
   "cell_type": "markdown",
   "id": "b0b8eaa9",
   "metadata": {},
   "source": [
    "## 4) Name mutable and immutable objects.\n",
    "\n",
    "> A mutable object is an object that can be changed.\n",
    "\n",
    "> An immutable object is an object that cannot be changed. \n",
    "\n",
    ">  An example of a mutable object is a list. \n",
    "\n",
    "> An example of an immutable object is a string or tuple."
   ]
  },
  {
   "cell_type": "markdown",
   "id": "e434feea",
   "metadata": {},
   "source": [
    "## 5) What are compound data types and data structures?\n",
    "\n",
    "> An example of a compound data type is a list.\n",
    "\n",
    "> A compound data type is a data type that contains other data types. \n",
    "\n",
    "> Each of the data structures is unique in its own way.\n",
    "\n",
    "> A data structure is a specialized format for organizing, processing, retrieving and storing data.\n",
    "\n",
    "> Data structures are “containers” that organize and group data according to type.\n",
    "\n",
    "> An example of a data structure is a list, dictionary, set, or a tuple."
   ]
  },
  {
   "cell_type": "markdown",
   "id": "c9fdd14b",
   "metadata": {},
   "source": [
    "![alt text](./dsh.png)\n"
   ]
  },
  {
   "cell_type": "markdown",
   "id": "ba7b3c06",
   "metadata": {},
   "source": [
    "## 6) What is the difference between a list and a tuple?  \n",
    "\n",
    "> Tuples are immutable while Lists are mutable. This makes tuples more memory efficient\n",
    "\n",
    "> Tuples are used when you want to store a fixed number of values. Lists are used when you want to store a variable number of values.\n"
   ]
  },
  {
   "cell_type": "markdown",
   "id": "78ebe787",
   "metadata": {},
   "source": [
    "## 7) What are list and dictionary comprehension? Give an example of each."
   ]
  },
  {
   "cell_type": "markdown",
   "id": "ca223faf",
   "metadata": {},
   "source": [
    "## List Comprehensions\n",
    "\n",
    "> List comprehensions are a way to construct new lists out of existing lists after applying transformations to them."
   ]
  },
  {
   "cell_type": "code",
   "execution_count": 61,
   "id": "01860f91",
   "metadata": {},
   "outputs": [
    {
     "name": "stdout",
     "output_type": "stream",
     "text": [
      "['Alan is awesome', 'Adam is awesome', 'Wes is awesome', 'Will is awesome', 'Albert is awesome', 'Steven is awesome', 'john is awesome', 'emily is awesome', 'rick is awesome', 'james is awesome', 'tim is awesome', 'juan is awesome', 'devon is awesome', 'jay is awesome']\n"
     ]
    }
   ],
   "source": [
    "names = ['Alan','Adam','Wes','Will','Albert','Steven','john','emily','rick','james','tim','juan','devon','jay',]\n",
    "# the logic is handled at the first part of the list comprehension where name is, ex: name + ' is awesome'\n",
    "list_built_by_list_comprehension = [name + ' is awesome' for name in names]\n",
    "print(list_built_by_list_comprehension)\n"
   ]
  },
  {
   "cell_type": "code",
   "execution_count": 62,
   "id": "9eecc705",
   "metadata": {},
   "outputs": [],
   "source": [
    "# make an object\n",
    "states = ['Alabama', 'AlaSka', 'Arizona', 'Arkansas', 'California', 'Colorado', 'ConnectiCut  ', 'Delaware', 'Florida', 'Georgia', 'Hawaii', 'Idaho', 'Illinois', 'Indiana   ', 'Iowa', 'Kansas', 'Kentucky', 'Louisiana', 'Maine', 'Maryland', '  Massachusetts', 'Michigan', 'Minnesota', 'Mississippi', 'Missouri   ', '   Montana', 'Nebraska', 'Nevada', 'New Hampshire', 'New Jersey', 'New Mexico  ', 'New YorK ', 'North Carolina', 'North Dakota', 'Ohio', 'Oklahoma', 'Oregon', 'Pennsylvania', 'Rhode Island', 'South Carolina', 'South Dakota', 'Tennessee', 'Texas', 'Utah', '# Vermont', 'Virginia', 'Washington', 'West Virginia', 'Wisconsin', 'Wyoming #']"
   ]
  },
  {
   "cell_type": "code",
   "execution_count": 63,
   "id": "25af9333",
   "metadata": {},
   "outputs": [],
   "source": [
    "# set states to lower case and remove spaces and hashes and space individual words (using list comprehension)\n",
    "clean_states = [item.lower().strip().replace('#', '').title() for item in states]"
   ]
  },
  {
   "cell_type": "code",
   "execution_count": 64,
   "id": "a26430bd",
   "metadata": {},
   "outputs": [],
   "source": [
    "# list of state abbreviations\n",
    "state_abbreviations = ['AL', 'AK', 'AZ', 'AR', 'CA', 'CO', 'CT', 'DE', 'FL', 'GA', 'HI', 'ID', 'IL', 'IN', 'IA', 'KS', 'KY', 'LA', 'ME', 'MD', 'MA', 'MI', 'MN', 'MS', 'MO', 'MT', 'NE', 'NV', 'NH', 'NJ', 'NM', 'NY', 'NC', 'ND', 'OH', 'OK', 'OR', 'PA', 'RI', 'SC', 'SD', 'TN', 'TX', 'UT', 'VT', 'VA', 'WA', 'WV', 'WI', 'WY']\n",
    "# create dictionary of states and abbreviations\n",
    "states_dict = dict(zip(clean_states, state_abbreviations))"
   ]
  },
  {
   "cell_type": "code",
   "execution_count": 65,
   "id": "cac8e513",
   "metadata": {},
   "outputs": [
    {
     "data": {
      "text/plain": [
       "{'Alabama': 'AL',\n",
       " 'Alaska': 'AK',\n",
       " 'Arizona': 'AZ',\n",
       " 'Arkansas': 'AR',\n",
       " 'California': 'CA',\n",
       " 'Colorado': 'CO',\n",
       " 'Connecticut': 'CT',\n",
       " 'Delaware': 'DE',\n",
       " 'Florida': 'FL',\n",
       " 'Georgia': 'GA',\n",
       " 'Hawaii': 'HI',\n",
       " 'Idaho': 'ID',\n",
       " 'Illinois': 'IL',\n",
       " 'Indiana': 'IN',\n",
       " 'Iowa': 'IA',\n",
       " 'Kansas': 'KS',\n",
       " 'Kentucky': 'KY',\n",
       " 'Louisiana': 'LA',\n",
       " 'Maine': 'ME',\n",
       " 'Maryland': 'MD',\n",
       " 'Massachusetts': 'MA',\n",
       " 'Michigan': 'MI',\n",
       " 'Minnesota': 'MN',\n",
       " 'Mississippi': 'MS',\n",
       " 'Missouri': 'MO',\n",
       " 'Montana': 'MT',\n",
       " 'Nebraska': 'NE',\n",
       " 'Nevada': 'NV',\n",
       " 'New Hampshire': 'NH',\n",
       " 'New Jersey': 'NJ',\n",
       " 'New Mexico': 'NM',\n",
       " 'New York': 'NY',\n",
       " 'North Carolina': 'NC',\n",
       " 'North Dakota': 'ND',\n",
       " 'Ohio': 'OH',\n",
       " 'Oklahoma': 'OK',\n",
       " 'Oregon': 'OR',\n",
       " 'Pennsylvania': 'PA',\n",
       " 'Rhode Island': 'RI',\n",
       " 'South Carolina': 'SC',\n",
       " 'South Dakota': 'SD',\n",
       " 'Tennessee': 'TN',\n",
       " 'Texas': 'TX',\n",
       " 'Utah': 'UT',\n",
       " ' Vermont': 'VT',\n",
       " 'Virginia': 'VA',\n",
       " 'Washington': 'WA',\n",
       " 'West Virginia': 'WV',\n",
       " 'Wisconsin': 'WI',\n",
       " 'Wyoming ': 'WY'}"
      ]
     },
     "execution_count": 65,
     "metadata": {},
     "output_type": "execute_result"
    }
   ],
   "source": [
    "states_dict"
   ]
  },
  {
   "cell_type": "markdown",
   "id": "a054d898",
   "metadata": {},
   "source": [
    "## Dict Comprehensions\n",
    "\n",
    "> Dictionary comprehension is a method for transforming one dictionary into another dictionary. During this transformation, items within the original dictionary can be conditionally included in the new dictionary and each item can be transformed as needed."
   ]
  },
  {
   "cell_type": "markdown",
   "id": "8b9de552",
   "metadata": {},
   "source": [
    "#### Pay attention to the fact that to create an iterable you have to call dict.keys(), dict.values(), or dict.items() and iterate over the view object they return\n",
    "- dict.keys() - A view object is returned that displays all the keys.\n",
    "- dict.values()- A view object is returned that displays all the values\n",
    "- dict.items()- A view object that displays a list of a given dictionary’s (key, value) tuple pair.\n"
   ]
  },
  {
   "cell_type": "code",
   "execution_count": 66,
   "id": "4f1493e7",
   "metadata": {},
   "outputs": [],
   "source": [
    "states_alphabetical = {k: v for k, v in sorted(states_dict.items(), key=lambda item: item[1], reverse=True)}"
   ]
  },
  {
   "cell_type": "code",
   "execution_count": 67,
   "id": "2a6f8c38",
   "metadata": {},
   "outputs": [
    {
     "name": "stdout",
     "output_type": "stream",
     "text": [
      "{'Wyoming ': 'WY', 'West Virginia': 'WV', 'Wisconsin': 'WI', 'Washington': 'WA', ' Vermont': 'VT', 'Virginia': 'VA', 'Utah': 'UT', 'Texas': 'TX', 'Tennessee': 'TN', 'South Dakota': 'SD', 'South Carolina': 'SC', 'Rhode Island': 'RI', 'Pennsylvania': 'PA', 'Oregon': 'OR', 'Oklahoma': 'OK', 'Ohio': 'OH', 'New York': 'NY', 'Nevada': 'NV', 'New Mexico': 'NM', 'New Jersey': 'NJ', 'New Hampshire': 'NH', 'Nebraska': 'NE', 'North Dakota': 'ND', 'North Carolina': 'NC', 'Montana': 'MT', 'Mississippi': 'MS', 'Missouri': 'MO', 'Minnesota': 'MN', 'Michigan': 'MI', 'Maine': 'ME', 'Maryland': 'MD', 'Massachusetts': 'MA', 'Louisiana': 'LA', 'Kentucky': 'KY', 'Kansas': 'KS', 'Indiana': 'IN', 'Illinois': 'IL', 'Idaho': 'ID', 'Iowa': 'IA', 'Hawaii': 'HI', 'Georgia': 'GA', 'Florida': 'FL', 'Delaware': 'DE', 'Connecticut': 'CT', 'Colorado': 'CO', 'California': 'CA', 'Arizona': 'AZ', 'Arkansas': 'AR', 'Alabama': 'AL', 'Alaska': 'AK'}\n"
     ]
    }
   ],
   "source": [
    "print(states_alphabetical)"
   ]
  },
  {
   "cell_type": "markdown",
   "id": "38dd4b68",
   "metadata": {},
   "source": [
    "## 8) What is tuple unpacking? Why is it important?\n",
    "\n",
    "> Tuple unpacking is a way to unpack a tuple into multiple variables.\n",
    "\n",
    "> It is important because it allows you to assign multiple variables to a single tuple."
   ]
  },
  {
   "cell_type": "code",
   "execution_count": 68,
   "id": "8c3cf4b6",
   "metadata": {},
   "outputs": [
    {
     "data": {
      "text/plain": [
       "('John', 'Paul', 'George', 'Ringo')"
      ]
     },
     "execution_count": 68,
     "metadata": {},
     "output_type": "execute_result"
    }
   ],
   "source": [
    "# An example of tuple unpacking\n",
    "names = ('John', 'Paul', 'George', 'Ringo')\n",
    "a, b, c, d = names\n",
    "names"
   ]
  },
  {
   "cell_type": "markdown",
   "id": "fc288c32",
   "metadata": {},
   "source": [
    "## 9) What are generators and decorators?\n",
    "\n",
    "> A generator is a function that returns an object (iterator) instead of a single value. \n",
    "\n",
    "> A decorator is a function that takes another function as an argument and returns a modified version of that function. The decorator can be used in this manner to modify or extend the behavior of the wrapped function."
   ]
  },
  {
   "cell_type": "code",
   "execution_count": 69,
   "id": "1df4d165",
   "metadata": {},
   "outputs": [],
   "source": [
    "# An example of a generator is the range function.\n",
    "def range(start, stop, step):\n",
    "    i = start\n",
    "    while i < stop:\n",
    "        yield i\n",
    "        i += step"
   ]
  },
  {
   "cell_type": "code",
   "execution_count": 70,
   "id": "0153dd41",
   "metadata": {},
   "outputs": [],
   "source": [
    "# An example of a decorator.\n",
    "def my_decorator(func):\n",
    "    def wrapper():\n",
    "        print(\"Something is happening before the function is called.\")\n",
    "        func()\n",
    "        print(\"Something is happening after the function is called.\")\n",
    "    return wrapper\n",
    "\n",
    "def say_whee():\n",
    "    print(\"Whee!\")\n",
    "\n",
    "say_whee = my_decorator(say_whee)"
   ]
  },
  {
   "cell_type": "markdown",
   "id": "fa57c863",
   "metadata": {},
   "source": [
    "## 10) What is the difference between %,  / and // ?\n",
    "\n",
    "> The % operator returns the remainder of the division of the two operands.\n",
    "\n",
    "> The / operator returns the quotient of the two operands.\n",
    "\n",
    "> The // operator returns the quotient of the two operands, rounded down to the nearest integer. "
   ]
  },
  {
   "cell_type": "code",
   "execution_count": 71,
   "id": "ee127dc9",
   "metadata": {},
   "outputs": [
    {
     "name": "stdout",
     "output_type": "stream",
     "text": [
      "1\n",
      "2.5\n",
      "2\n"
     ]
    }
   ],
   "source": [
    "#%, / and // an example of each is below.\n",
    "print(5 % 2)\n",
    "print(5 / 2)\n",
    "print(5 // 2)"
   ]
  },
  {
   "cell_type": "markdown",
   "id": "6eb4068e",
   "metadata": {},
   "source": [
    "## 11) What is the difference between is and ‘==’ ?\n",
    "\n",
    "> The difference between **is** and ‘==’ **is** that is returns True if the two operands are the same object, and False if they are not.\n",
    "\n",
    ">The ‘==’ operator returns True if the two operands are equal, and False if they are not. "
   ]
  },
  {
   "cell_type": "code",
   "execution_count": 72,
   "id": "cc90c2b9",
   "metadata": {},
   "outputs": [
    {
     "name": "stdout",
     "output_type": "stream",
     "text": [
      "False\n",
      "True\n"
     ]
    }
   ],
   "source": [
    "# The difference between is and ‘==’\n",
    "a = [1, 2, 3]\n",
    "b = [1, 2, 3]\n",
    "print(a is b)\n",
    "print(a == b)"
   ]
  },
  {
   "cell_type": "markdown",
   "id": "e1e5aaa7",
   "metadata": {},
   "source": [
    "## 12) What is the difference between indexing and slicing?\n",
    "\n",
    "> Indexing is a way to access a specific element in a list. Slicing is a way to access a subset of a list. "
   ]
  },
  {
   "cell_type": "code",
   "execution_count": 73,
   "id": "086f08f0",
   "metadata": {},
   "outputs": [
    {
     "name": "stdout",
     "output_type": "stream",
     "text": [
      "1\n",
      "[2, 3]\n"
     ]
    }
   ],
   "source": [
    "# an example of indexing and slicing is below.\n",
    "a = [1, 2, 3]\n",
    "\n",
    "# indexing\n",
    "print(a[0])\n",
    "\n",
    "# slicing\n",
    "print(a[1:3])"
   ]
  },
  {
   "cell_type": "markdown",
   "id": "a501c3f5",
   "metadata": {},
   "source": [
    "## 13) What is the lambda function?\n",
    "\n",
    "> A lambda function is a small anonymous function. \n",
    "\n",
    "> It can take any number of arguments, but can only have one expression.\n",
    "\n",
    "> It is syntactically restricted to a single expression.\n",
    "\n",
    "> It is useful for creating quick one-off functions. "
   ]
  },
  {
   "cell_type": "code",
   "execution_count": 74,
   "id": "d01d04cf",
   "metadata": {},
   "outputs": [
    {
     "name": "stdout",
     "output_type": "stream",
     "text": [
      "6\n",
      "10\n"
     ]
    }
   ],
   "source": [
    "#  an example of a lambda function is below.\n",
    "add_one = lambda x: x + 1\n",
    "print(add_one(5))\n",
    "\n",
    "# another example of a lambda function is below.\n",
    "double = lambda x: x * 2\n",
    "print(double(5))"
   ]
  },
  {
   "cell_type": "markdown",
   "id": "0e78962d",
   "metadata": {},
   "source": [
    "## 14) Explain zip() and enumerate() function.\n",
    "\n",
    "> Zip() is a built-in function that takes multiple sequences and returns a sequence of tuples, where the first element in each tuple is the element from the first sequence, the second element is the element from the second sequence, and so on. \n",
    "\n",
    "> Enumerate() is a built-in function that takes a sequence and returns a sequence of tuples, where the first element in each tuple is the position (or index) of the element and the second element is the value of the element. "
   ]
  },
  {
   "cell_type": "code",
   "execution_count": 75,
   "id": "1d2a9893",
   "metadata": {},
   "outputs": [
    {
     "name": "stdout",
     "output_type": "stream",
     "text": [
      "[(1, 4, 7), (2, 5, 8), (3, 6, 9)]\n"
     ]
    }
   ],
   "source": [
    "# An example of zip() is below.\n",
    "a = [1, 2, 3]\n",
    "b = [4, 5, 6]\n",
    "c = [7, 8, 9]\n",
    "print(list(zip(a, b, c)))"
   ]
  },
  {
   "cell_type": "code",
   "execution_count": 76,
   "id": "b72e1dd1",
   "metadata": {},
   "outputs": [
    {
     "name": "stdout",
     "output_type": "stream",
     "text": [
      "The index is 0 and the value is a\n",
      "The index is 1 and the value is b\n",
      "The index is 2 and the value is c\n"
     ]
    }
   ],
   "source": [
    "# An example of enumerate() is below.\n",
    "a = ['a', 'b', 'c']\n",
    "for i, v in enumerate(a):\n",
    "        print(f\"The index is {i} and the value is {v}\")"
   ]
  },
  {
   "cell_type": "markdown",
   "id": "eba61d49",
   "metadata": {},
   "source": [
    "## 15) How do map, reduce and filter functions work?\n",
    "\n",
    "> Map() is a built-in function that takes a function and a sequence and returns a sequence with the function applied to each element of the input sequence. \n",
    "\n",
    "> Reduce() is a built-in function that takes a function and a sequence and returns a single value by repeatedly applying the function to a sequence of values. \n",
    "\n",
    "> Filter() is a built-in function that takes a function and a sequence and returns a sequence with only those elements that satisfy the function. \n"
   ]
  },
  {
   "cell_type": "code",
   "execution_count": 77,
   "id": "352c4b8d",
   "metadata": {},
   "outputs": [
    {
     "name": "stdout",
     "output_type": "stream",
     "text": [
      "[12, 15, 18]\n"
     ]
    }
   ],
   "source": [
    "# An example of map() is below.\n",
    "a = [1, 2, 3]\n",
    "b = [4, 5, 6]\n",
    "c = [7, 8, 9]\n",
    "print(list(map(lambda x, y, z: x + y + z, a, b, c)))"
   ]
  },
  {
   "cell_type": "code",
   "execution_count": 78,
   "id": "104501e8",
   "metadata": {},
   "outputs": [
    {
     "name": "stdout",
     "output_type": "stream",
     "text": [
      "6\n"
     ]
    }
   ],
   "source": [
    "# An example of reduce() is below.\n",
    "from functools import reduce\n",
    "a = [1, 2, 3]\n",
    "print(reduce(lambda x, y: x + y, a))"
   ]
  },
  {
   "cell_type": "code",
   "execution_count": 79,
   "id": "a9026ecb",
   "metadata": {},
   "outputs": [
    {
     "name": "stdout",
     "output_type": "stream",
     "text": [
      "[2, 4, 6, 8]\n"
     ]
    }
   ],
   "source": [
    "# An example of filter() is below.\n",
    "a = [1, 2, 3, 4, 5, 6, 7, 8, 9]\n",
    "print(list(filter(lambda x: x % 2 == 0, a)))"
   ]
  },
  {
   "cell_type": "markdown",
   "id": "cc75e13c",
   "metadata": {},
   "source": [
    "## 16) What is the difference between del(), clear(), remove(),  and pop()?\n",
    "\n",
    "\n",
    "The difference between del(), clear(), remove(), and pop() is that:\n",
    "\n",
    "> del() deletes the specified element from the list. \n",
    "\n",
    "> clear() deletes all elements from the list. \n",
    "\n",
    "> remove() deletes the specified element from the list. \n",
    "\n",
    "> pop() deletes the specified element from the list and returns the element. \n",
    "\n"
   ]
  },
  {
   "cell_type": "code",
   "execution_count": 80,
   "id": "1f4a96e7",
   "metadata": {},
   "outputs": [
    {
     "name": "stdout",
     "output_type": "stream",
     "text": [
      "[1, 3]\n",
      "[]\n",
      "[1, 3]\n",
      "[1, 3]\n"
     ]
    }
   ],
   "source": [
    "# An example of del() is below.\n",
    "a = [1, 2, 3]\n",
    "del a[1]\n",
    "print(a)\n",
    "\n",
    "# An example of clear() is below.\n",
    "a = [1, 2, 3]\n",
    "a.clear()\n",
    "print(a)\n",
    "\n",
    "# An example of remove() is below.\n",
    "a = [1, 2, 3]\n",
    "a.remove(2)\n",
    "print(a)\n",
    "\n",
    "# An example of pop() is below.\n",
    "a = [1, 2, 3]\n",
    "a.pop(1)\n",
    "print(a)\n"
   ]
  },
  {
   "cell_type": "markdown",
   "id": "68ff084a",
   "metadata": {},
   "source": [
    "## 17) What is the difference between range, xrange and arange?\n",
    "\n",
    " \n",
    "> The difference range and xrange is that range returns a list of integers, while xrange returns an object that can be iterated over; np.arange returns a numpy array. \n",
    "\n",
    "> In Python3 range returns a list of integers, while in Python2 xrange returns an object that can be iterated over. \n",
    " \n",
    "> There is no xrange in Python3."
   ]
  },
  {
   "cell_type": "code",
   "execution_count": 81,
   "id": "6a9fd0f7",
   "metadata": {},
   "outputs": [
    {
     "name": "stdout",
     "output_type": "stream",
     "text": [
      "0\n",
      "2\n",
      "4\n",
      "6\n",
      "8\n"
     ]
    }
   ],
   "source": [
    "# An example of range() is below. range(start, stop, step)\n",
    "a = range(0,10,2)\n",
    "for x in a:\n",
    "    print(x)"
   ]
  },
  {
   "cell_type": "code",
   "execution_count": 82,
   "id": "3d382670",
   "metadata": {},
   "outputs": [],
   "source": [
    "# An example of xrange() from python2  is below.\n",
    "# a = xrange(10)\n",
    "# print(a)"
   ]
  },
  {
   "cell_type": "code",
   "execution_count": 83,
   "id": "1fd2d964",
   "metadata": {},
   "outputs": [
    {
     "name": "stdout",
     "output_type": "stream",
     "text": [
      "[0 1 2 3 4 5 6 7 8 9]\n"
     ]
    }
   ],
   "source": [
    "# An example of np.arange() is below.\n",
    "import numpy as np\n",
    "a = np.arange(10)\n",
    "print(a)"
   ]
  },
  {
   "cell_type": "markdown",
   "id": "cf6aced3",
   "metadata": {},
   "source": [
    "## 18) What is the difference between pass, continue and break?\n",
    "\n",
    "> The difference between pass and continue is that pass does nothing, while continue skips the current iteration and continues with the next iteration. Break exits the loop. "
   ]
  },
  {
   "cell_type": "code",
   "execution_count": 84,
   "id": "f7fa71c5",
   "metadata": {},
   "outputs": [],
   "source": [
    "# An example of pass is below.\n",
    "for i in range(0,10,2):\n",
    "        pass"
   ]
  },
  {
   "cell_type": "code",
   "execution_count": 85,
   "id": "1ef797ce",
   "metadata": {},
   "outputs": [
    {
     "name": "stdout",
     "output_type": "stream",
     "text": [
      "0\n",
      "1\n",
      "2\n",
      "3\n",
      "4\n",
      "6\n",
      "7\n",
      "8\n",
      "9\n"
     ]
    }
   ],
   "source": [
    "# An example of continue is below.\n",
    "for i in range(0,10,1):\n",
    "        if i == 5:\n",
    "                continue\n",
    "        print(i)"
   ]
  },
  {
   "cell_type": "code",
   "execution_count": 86,
   "id": "32eca0fd",
   "metadata": {},
   "outputs": [
    {
     "name": "stdout",
     "output_type": "stream",
     "text": [
      "0\n",
      "1\n",
      "2\n",
      "3\n",
      "4\n"
     ]
    }
   ],
   "source": [
    "# An example of break is below.\n",
    "for i in range(0,10,1):\n",
    "        if i == 5:\n",
    "                break\n",
    "        print(i)\n",
    "        "
   ]
  },
  {
   "cell_type": "markdown",
   "id": "fbae4ad1",
   "metadata": {},
   "source": [
    "## 19) What is Regex? List some of the important Regex functions.\n",
    "\n",
    "> Regex is a set of rules for matching text. It is used to find patterns in text."
   ]
  },
  {
   "cell_type": "code",
   "execution_count": 87,
   "id": "5f5a91ae",
   "metadata": {},
   "outputs": [
    {
     "name": "stdout",
     "output_type": "stream",
     "text": [
      "<re.Match object; span=(0, 5), match='Hello'>\n"
     ]
    }
   ],
   "source": [
    " \n",
    "# An example of re.search() is below.\n",
    "import re\n",
    "a = \"Hello World\"\n",
    "b = re.search(\"Hello\", a)\n",
    "print(b)"
   ]
  },
  {
   "cell_type": "code",
   "execution_count": 88,
   "id": "30deb08d",
   "metadata": {},
   "outputs": [
    {
     "name": "stdout",
     "output_type": "stream",
     "text": [
      "<re.Match object; span=(0, 5), match='Hello'>\n"
     ]
    }
   ],
   "source": [
    "# An example of re.match() is below.\n",
    "a = \"Hello World\"\n",
    "b = re.match(\"Hello\", a)\n",
    "print(b)"
   ]
  },
  {
   "cell_type": "code",
   "execution_count": 89,
   "id": "e4dc83f9",
   "metadata": {},
   "outputs": [
    {
     "name": "stdout",
     "output_type": "stream",
     "text": [
      "['Hello']\n"
     ]
    }
   ],
   "source": [
    "# An example of re.findall() is below.\n",
    "a = \"Hello World\"\n",
    "b = re.findall(\"Hello\", a)\n",
    "print(b)"
   ]
  },
  {
   "cell_type": "code",
   "execution_count": 90,
   "id": "9fe7bba7",
   "metadata": {},
   "outputs": [
    {
     "name": "stdout",
     "output_type": "stream",
     "text": [
      "['', ' World']\n"
     ]
    }
   ],
   "source": [
    "# An example of re.split() is below.\n",
    "a = \"Hello World\"\n",
    "b = re.split(\"Hello\", a)\n",
    "print(b)"
   ]
  },
  {
   "cell_type": "code",
   "execution_count": 91,
   "id": "81d0e3e1",
   "metadata": {},
   "outputs": [
    {
     "name": "stdout",
     "output_type": "stream",
     "text": [
      "Hi World\n"
     ]
    }
   ],
   "source": [
    "# An example of re.sub() is below.\n",
    "a = \"Hello World\"\n",
    "b = re.sub(\"Hello\", \"Hi\", a)\n",
    "print(b)"
   ]
  },
  {
   "cell_type": "code",
   "execution_count": 92,
   "id": "6f72f08d",
   "metadata": {},
   "outputs": [
    {
     "name": "stdout",
     "output_type": "stream",
     "text": [
      "re.compile('Hello')\n"
     ]
    }
   ],
   "source": [
    "# An example of re.compile() is below.\n",
    "a = \"Hello World\"\n",
    "b = re.compile(\"Hello\")\n",
    "print(b)"
   ]
  },
  {
   "cell_type": "code",
   "execution_count": 93,
   "id": "a6e57701",
   "metadata": {},
   "outputs": [
    {
     "name": "stdout",
     "output_type": "stream",
     "text": [
      "Hello\n"
     ]
    }
   ],
   "source": [
    "# An example of re.escape() is below.\n",
    "a = \"Hello World\"\n",
    "b = re.escape(\"Hello\")\n",
    "print(b)"
   ]
  },
  {
   "cell_type": "code",
   "execution_count": 94,
   "id": "6fd4ad5c",
   "metadata": {},
   "outputs": [
    {
     "name": "stdout",
     "output_type": "stream",
     "text": [
      "<callable_iterator object at 0x7fc7401d7970>\n"
     ]
    }
   ],
   "source": [
    "# An example of re.finditer() is below.\n",
    "a = \"Hello World\"\n",
    "b = re.finditer(\"Hello\", a)\n",
    "print(b)"
   ]
  },
  {
   "cell_type": "markdown",
   "id": "a61e05b0",
   "metadata": {},
   "source": [
    "## 20) What are namespaces in Python?\n",
    " \n",
    "> Namespaces are a way to organize related variables and functions. \n",
    "\n",
    "> Namespaces can be nested.\n",
    "\n",
    "> Namespaces can be created using the \"global\" and \"nonlocal\" keywords.\n",
    "\n",
    "> Global namespaces are created at the top level of a program, while nonlocal namespaces are created inside functions.\n",
    " "
   ]
  },
  {
   "cell_type": "code",
   "execution_count": 95,
   "id": "c5204ff6",
   "metadata": {},
   "outputs": [
    {
     "name": "stdout",
     "output_type": "stream",
     "text": [
      "in function\n",
      "in function\n"
     ]
    }
   ],
   "source": [
    "# An example of global is below.\n",
    "a = 'in global namespace'\n",
    "def f():\n",
    "        global a\n",
    "        a = 'in function'\n",
    "        print(a)\n",
    "f()\n",
    "print(a)"
   ]
  },
  {
   "cell_type": "code",
   "execution_count": 96,
   "id": "a0c8ff2b",
   "metadata": {},
   "outputs": [
    {
     "name": "stdout",
     "output_type": "stream",
     "text": [
      "inner scope\n",
      "inner scope\n"
     ]
    }
   ],
   "source": [
    "# An example of nonlocal is below.\n",
    "\n",
    "def foo():\n",
    "    name = \"out scope\" # Our local variable\n",
    " \n",
    "    def bar():\n",
    "        nonlocal name          # Reference name in the upper scope\n",
    "        name = 'inner scope' # Overwrite this variable\n",
    "        print(name)\n",
    "         \n",
    "    # Calling inner function\n",
    "    bar()\n",
    "     \n",
    "    # Printing local variable\n",
    "    print(name)\n",
    " \n",
    "foo()"
   ]
  },
  {
   "cell_type": "markdown",
   "id": "a74e1ce4",
   "metadata": {},
   "source": [
    "## 21) What is the difference between global and local variables?\n",
    "\n",
    "> The difference between global and local variables is that global variables are available to all functions, while local variables are only available to the function in which they are defined."
   ]
  },
  {
   "cell_type": "code",
   "execution_count": 97,
   "id": "82453d0a",
   "metadata": {},
   "outputs": [
    {
     "name": "stdout",
     "output_type": "stream",
     "text": [
      "20\n",
      "10\n"
     ]
    }
   ],
   "source": [
    "# An example of local variable is inside the function. The global is the first line of code\n",
    "a = 10 # Global\n",
    "def f():\n",
    "        a = 20 # local to function scope \n",
    "        print(a)\n",
    "f()\n",
    "print(a)"
   ]
  },
  {
   "cell_type": "markdown",
   "id": "0ff94186",
   "metadata": {},
   "source": [
    "## 22) What is a default value?\n",
    "> Python has a different way of representing syntax and default values for function arguments.\n",
    "\n",
    "> Default values indicate that the function argument will take that value if no argument value is passed during the function call.\n",
    "\n",
    "> The default value is assigned by using the assignment(=) operator of the form keywordname=value."
   ]
  },
  {
   "cell_type": "code",
   "execution_count": 98,
   "id": "496a2a4c",
   "metadata": {},
   "outputs": [
    {
     "name": "stdout",
     "output_type": "stream",
     "text": [
      "1 10\n",
      "1 3\n",
      "1 2\n"
     ]
    }
   ],
   "source": [
    "# An example of default value is below.\n",
    "def f(a, b=10):\n",
    "        print(a, b)     \n",
    "f(1)\n",
    "f(1, 3)\n",
    "f(1, b=2)\n",
    " \n"
   ]
  },
  {
   "cell_type": "markdown",
   "id": "6d15dcc4",
   "metadata": {},
   "source": [
    "## 23) What does *args, **kwargs mean? When are these used?\n",
    "> The Python *args method represents a varied number of arguments. It lets you pass arguments to a function when you are unsure how many arguments you want to pass.\n",
    "\n",
    "> The term “args” is a placeholder. In your function, you can replace the name of “args” with any value. You could use “numbers” to represent a list of numbers or “student” to represent a students’ details.  \n",
    "\n",
    "> The **kwargs keyword represents an arbitrary number of arguments that are passed to a function. **kwargs keywords are stored in a dictionary. You can access each item by referring to the keyword you associated with an argument when you passed the argument.\n",
    "\n",
    "> We use *args and **kwargs as an argument when we are unsure about the number of arguments to pass in the functions."
   ]
  },
  {
   "cell_type": "code",
   "execution_count": 99,
   "id": "7159e932",
   "metadata": {},
   "outputs": [
    {
     "name": "stdout",
     "output_type": "stream",
     "text": [
      "(1, 2, 3)\n"
     ]
    }
   ],
   "source": [
    "# An example of args is below.\n",
    "def f(*args):\n",
    "        print(args)\n",
    "f(1, 2, 3)"
   ]
  },
  {
   "cell_type": "code",
   "execution_count": 100,
   "id": "3cc8ebe5",
   "metadata": {},
   "outputs": [
    {
     "name": "stdout",
     "output_type": "stream",
     "text": [
      "{'a': 1, 'b': 2, 'c': 3}\n"
     ]
    }
   ],
   "source": [
    "# An example of kwargs is below.\n",
    "def f(**kwargs):\n",
    "        print(kwargs)\n",
    "f(a=1, b=2, c=3)"
   ]
  },
  {
   "cell_type": "code",
   "execution_count": 101,
   "id": "d8f41ce8",
   "metadata": {},
   "outputs": [
    {
     "name": "stdout",
     "output_type": "stream",
     "text": [
      "(1, 2, 3) {'a': 1, 'b': 2, 'c': 3}\n"
     ]
    }
   ],
   "source": [
    "# An example of args and kwargs is below.\n",
    "def f(*args, **kwargs):\n",
    "        print(args, kwargs)\n",
    "f(1, 2, 3, a=1, b=2, c=3)"
   ]
  },
  {
   "cell_type": "markdown",
   "id": "d0cce7d3",
   "metadata": {},
   "source": [
    "## 24) What is the difference between print and return?\n",
    "Print will output the given input to the console; whether it's a string, variable, or function. Return is similar but will not output directly to the console unless specified and may be used to pass data between functions."
   ]
  },
  {
   "cell_type": "code",
   "execution_count": 102,
   "id": "3cf488dc",
   "metadata": {},
   "outputs": [
    {
     "name": "stdout",
     "output_type": "stream",
     "text": [
      "1\n"
     ]
    }
   ],
   "source": [
    "# An example of print is below.\n",
    "print(1)"
   ]
  },
  {
   "cell_type": "code",
   "execution_count": 103,
   "id": "130e9c07",
   "metadata": {},
   "outputs": [
    {
     "name": "stdout",
     "output_type": "stream",
     "text": [
      "1\n"
     ]
    }
   ],
   "source": [
    "# An example of return is below.\n",
    "def f():\n",
    "        return 1\n",
    "print(f())"
   ]
  },
  {
   "cell_type": "markdown",
   "id": "95399d7c",
   "metadata": {},
   "source": [
    "## 25) What is the use of the With statement?\n",
    "> With statement in Python is used in exception handling to make the code cleaner and much more readable. It simplifies the management of common resources like file streams. Observe the following code example on how the use of with statement makes code cleaner."
   ]
  },
  {
   "cell_type": "code",
   "execution_count": 104,
   "id": "ac9a5bb2",
   "metadata": {},
   "outputs": [],
   "source": [
    "# #  without using with statement\n",
    "\n",
    "# file = open('file_path', 'w')\n",
    "# try:\n",
    "#     file.write('hello world')\n",
    "# finally:\n",
    "#     file.close()"
   ]
  },
  {
   "cell_type": "code",
   "execution_count": 105,
   "id": "d2e677c3",
   "metadata": {},
   "outputs": [],
   "source": [
    "# # using with statement\n",
    "\n",
    "# with open('file_path', 'w') as file:\n",
    "# \tfile.write('hello world !')"
   ]
  },
  {
   "cell_type": "markdown",
   "id": "55d43d1b",
   "metadata": {},
   "source": [
    "## 26) What is the difference between conditionals and control flows?\n",
    "\n",
    "> Conditionals are used to create control flow and control flow is the cause of using conditionals to remove and narrow down cases to your desired outcome.\n",
    "\n",
    "> Conditionals are used to determine whether a block of code should be executed or not. Control flows are used to determine which block of code should be executed. "
   ]
  },
  {
   "cell_type": "code",
   "execution_count": 106,
   "id": "f9387adf",
   "metadata": {},
   "outputs": [
    {
     "name": "stdout",
     "output_type": "stream",
     "text": [
      "a is greater than 5\n"
     ]
    }
   ],
   "source": [
    "# An example of conditionals is below.\n",
    "a = 10\n",
    "if a > 5:\n",
    "        print(\"a is greater than 5\")\n",
    "if a < 5:\n",
    "        print(\"a is less than 5\")"
   ]
  },
  {
   "cell_type": "code",
   "execution_count": 107,
   "id": "eebd6377",
   "metadata": {},
   "outputs": [
    {
     "name": "stdout",
     "output_type": "stream",
     "text": [
      "a is greater than 5\n"
     ]
    }
   ],
   "source": [
    "# An example of control flows is below.\n",
    "a = 10\n",
    "if a > 5:\n",
    "        print(\"a is greater than 5\")\n",
    "else:\n",
    "        print(\"a is less than 5\")"
   ]
  },
  {
   "cell_type": "markdown",
   "id": "e2916600",
   "metadata": {},
   "source": [
    "## 27) How is exception handling achieved in Python?\n",
    "\n",
    "Exception handling is achieved using try and except statements.\n",
    "\n",
    "> The try statement is used to execute a block of code.\n",
    "\n",
    "> The except statement is used to handle exceptions.\n",
    "\n",
    "> The finally statement is used to execute a block of code after the try and except statements have been executed. "
   ]
  },
  {
   "cell_type": "code",
   "execution_count": 108,
   "id": "9946ec5b",
   "metadata": {},
   "outputs": [
    {
     "name": "stdout",
     "output_type": "stream",
     "text": [
      "Can't divide by zero\n",
      "This will always be printed\n"
     ]
    }
   ],
   "source": [
    "# An example of exception handling is below.\n",
    "\n",
    "try:\n",
    "        a = 10\n",
    "        b = 0\n",
    "        c = a/b\n",
    "except ZeroDivisionError:\n",
    "        print(\"Can't divide by zero\")\n",
    "else:\n",
    "        print(\"No exception occurred\")\n",
    "finally:\n",
    "        print(\"This will always be printed\")\n"
   ]
  },
  {
   "cell_type": "markdown",
   "id": "1d9793ed",
   "metadata": {},
   "source": [
    "## 28) What is for loop and how is it different from while loop?\n",
    "> A for loop is used for iterating over a sequence (that is either a list, a tuple, a dictionary, a set, or a string). This is less like the for keyword in other programming languages, and works more like an iterator method as found in other object-orientated programming languages.\n",
    "\n",
    "> The for loop allows a programmer to execute a sequence of statements several times, it abbreviates the code which helps to manage loop variables. While loop allows a programmer to repeat a single statement or a group of statements for the TRUE condition. It verifies the condition before executing the loop.\n",
    "\n",
    "> The for loop is used to iterate over a sequence. The while loop is used to iterate over a condition. The for loop is used when the number of iterations is known, while the while loop is used when the number of iterations is unknown."
   ]
  },
  {
   "cell_type": "code",
   "execution_count": 109,
   "id": "393e1739",
   "metadata": {},
   "outputs": [
    {
     "ename": "TypeError",
     "evalue": "range() missing 1 required positional argument: 'step'",
     "output_type": "error",
     "traceback": [
      "\u001b[0;31m---------------------------------------------------------------------------\u001b[0m",
      "\u001b[0;31mTypeError\u001b[0m                                 Traceback (most recent call last)",
      "\u001b[0;32m<ipython-input-109-3fe8f2ad8ca8>\u001b[0m in \u001b[0;36m<module>\u001b[0;34m\u001b[0m\n\u001b[1;32m      2\u001b[0m \u001b[0;31m# will eventually be false so the loop will exit\u001b[0m\u001b[0;34m\u001b[0m\u001b[0;34m\u001b[0m\u001b[0;34m\u001b[0m\u001b[0m\n\u001b[1;32m      3\u001b[0m \u001b[0;34m\u001b[0m\u001b[0m\n\u001b[0;32m----> 4\u001b[0;31m \u001b[0;32mfor\u001b[0m \u001b[0mi\u001b[0m \u001b[0;32min\u001b[0m \u001b[0mrange\u001b[0m\u001b[0;34m(\u001b[0m\u001b[0;36m0\u001b[0m\u001b[0;34m,\u001b[0m\u001b[0;36m10\u001b[0m\u001b[0;34m)\u001b[0m\u001b[0;34m:\u001b[0m\u001b[0;34m\u001b[0m\u001b[0;34m\u001b[0m\u001b[0m\n\u001b[0m\u001b[1;32m      5\u001b[0m         \u001b[0mprint\u001b[0m\u001b[0;34m(\u001b[0m\u001b[0mi\u001b[0m\u001b[0;34m)\u001b[0m\u001b[0;34m\u001b[0m\u001b[0;34m\u001b[0m\u001b[0m\n",
      "\u001b[0;31mTypeError\u001b[0m: range() missing 1 required positional argument: 'step'"
     ]
    }
   ],
   "source": [
    "# An example of for loop is below. Make sure to not create an infinite loop by implementing a counter or a case that\n",
    "# will eventually be false so the loop will exit\n",
    "\n",
    "for i in range(0,10):\n",
    "        print(i)"
   ]
  },
  {
   "cell_type": "code",
   "execution_count": null,
   "id": "908a694f",
   "metadata": {},
   "outputs": [],
   "source": [
    "# An example of while loop is below. Make sure to not create an infinite loop by implementing a counter or a case that\n",
    "# will eventually be false so the loop will exit\n",
    "i = 0\n",
    "while i < 10:\n",
    "        print(i)\n",
    "        i += 1\n",
    "        "
   ]
  },
  {
   "cell_type": "markdown",
   "id": "27a55440",
   "metadata": {},
   "source": [
    "## 29) What is class and object?\n",
    "> What is a class? What is an object? - https://docs.python.org/3/tutorial/classes.html Class: Classes allow the bundling of data and functionality into one object. Creating a class creates a new type of object which allows new instances of that type to be made. Instances can have methods for modifying its state.\n",
    "\n",
    "> Object: An object is an instance of a class. A class is a sort of blueprint; an object is an implementation of that blueprint. For instance, if we had a class called \"Car\" with various functions like drive_forward and states like gas_tank_full, a \"Car\" object would be a specific car instance i.e. \"Ford Model A\".\n",
    "\n",
    "> Class is a blueprint for creating objects. \n",
    "\n",
    "> Object is an instance of a class. "
   ]
  },
  {
   "cell_type": "code",
   "execution_count": null,
   "id": "36974874",
   "metadata": {},
   "outputs": [],
   "source": [
    "# An example of class is below.\n",
    "class MyClass:\n",
    "        def __init__(self):\n",
    "                self.a = 10\n",
    "                self.b = 20\n",
    "        def add(self):\n",
    "                return self.a + self.b\n",
    "        def sub(self):\n",
    "                return self.a - self.b\n",
    "            \n",
    "# An example of object is below. The object obj is an instance of the MyClass class above\n",
    "obj = MyClass()\n",
    "print(obj.add())\n",
    "print(obj.sub())\n"
   ]
  },
  {
   "cell_type": "markdown",
   "id": "4fc84b14",
   "metadata": {},
   "source": [
    "## 30) What is docstring?\n",
    "\n",
    "> A Python docstring is a string used to document a Python module, class, function or method, so programmers can understand what it does without having to read the details of the implementation. \n",
    "\n",
    "> A docstring is a string literal that occurs as the first statement in a module, function, class, or method definition. It is used for documentation purposes, and is often displayed by tools like IDEs and editors. "
   ]
  },
  {
   "cell_type": "code",
   "execution_count": null,
   "id": "98f87958",
   "metadata": {},
   "outputs": [],
   "source": [
    "def f():\n",
    "        '''\n",
    "        This is a docstring.\n",
    "        '''\n",
    "        print(\"Hello\")\n",
    "f()\n"
   ]
  },
  {
   "cell_type": "markdown",
   "id": "828c9a07",
   "metadata": {},
   "source": [
    "#  Pandas and Visualization\n",
    "[Read The Docs!](https://pandas.pydata.org/docs/index.html)"
   ]
  },
  {
   "cell_type": "markdown",
   "id": "4d98d8a2",
   "metadata": {},
   "source": [
    "## 31) What is the difference between series and vectors?\n",
    "\n",
    "> A pandas Series is a one-dimensional labelled data structure which can hold data such as strings, integers and even other Python objects. \n",
    "\n",
    "> A pandas series is built on top of numpy array and is the primary data structure to hold one-dimensional data in pandas\n",
    "\n",
    "## Need a comparison of series and vectors here"
   ]
  },
  {
   "cell_type": "markdown",
   "id": "d8163142",
   "metadata": {},
   "source": [
    "## 32) What is the difference between data frames and matrices?\n",
    "> Both represent 'rectangular' data types, meaning that they are used to store tabular data, with rows and columns. \n",
    "\n",
    "> The main difference, as you'll see, is that matrices can only contain a single class of data, while data frames can consist of many different classes of data"
   ]
  },
  {
   "cell_type": "code",
   "execution_count": null,
   "id": "57da655f",
   "metadata": {},
   "outputs": [],
   "source": [
    "# an example of data frames is below.\n",
    "import pandas as pd\n",
    "df = pd.DataFrame({'A': [1, 2, 3], 'B': [4, 5, 6]})\n",
    "print(df)"
   ]
  },
  {
   "cell_type": "code",
   "execution_count": null,
   "id": "7c982f2a",
   "metadata": {},
   "outputs": [],
   "source": [
    "# an example of matrices is below.\n",
    "import numpy as np\n",
    "a = np.array([[1, 2, 3], [4, 5, 6]])\n",
    "print(a)"
   ]
  },
  {
   "cell_type": "markdown",
   "id": "a3abf37c",
   "metadata": {},
   "source": [
    "## 33) What is the difference between lists and arrays?\n",
    "\n",
    "> An array is faster than a list in python since all the elements stored in an array are homogeneous i.e., they have the same data type whereas a list contains heterogeneous elements.\n",
    "\n",
    "> Python arrays are implemented in C which makes it a lot faster than lists that are built-in in Python itself.\n"
   ]
  },
  {
   "cell_type": "code",
   "execution_count": null,
   "id": "95f9e2c2",
   "metadata": {},
   "outputs": [],
   "source": [
    "# an example of lists is below.\n",
    "l = [1, 2, 3]\n",
    "print(l)"
   ]
  },
  {
   "cell_type": "code",
   "execution_count": null,
   "id": "e4cec7dc",
   "metadata": {},
   "outputs": [],
   "source": [
    "# an example of arrays is below.\n",
    "a = np.array([1, 2, 3])\n",
    "print(a)"
   ]
  },
  {
   "cell_type": "markdown",
   "id": "984d0532",
   "metadata": {},
   "source": [
    "\n",
    "## 34) What is the difference between .iloc and .loc?\n",
    "> difference between loc and iloc: loc will include the last element of the row/column selected, iloc will not. loc can accept boolean data, iloc cannot."
   ]
  },
  {
   "cell_type": "code",
   "execution_count": null,
   "id": "f31be8e4",
   "metadata": {},
   "outputs": [],
   "source": [
    "# an example of .iloc is below.\n",
    "df = pd.DataFrame({'A': [1, 2, 3], 'B': [4, 5, 6]})\n",
    "print(df.iloc[0])"
   ]
  },
  {
   "cell_type": "code",
   "execution_count": null,
   "id": "2be70124",
   "metadata": {},
   "outputs": [],
   "source": [
    "# an example of .loc is below.\n",
    "df = pd.DataFrame({'A': [1, 2, 3], 'B': [4, 5, 6]})\n",
    "print(df.loc[0])"
   ]
  },
  {
   "cell_type": "markdown",
   "id": "ae855295",
   "metadata": {},
   "source": [
    "## 35) What is the difference between merge, join and concatenate?\n",
    "\n",
    "> [Really great explanation of the three](https://realpython.com/pandas-merge-join-and-concat/)\n",
    "\n",
    "> .merge() for combining data on common columns or indices\n",
    " \n",
    "> .join() for combining data on a key column or an index. \n",
    "\n",
    "> .concat() for combining DataFrames across rows or columns"
   ]
  },
  {
   "cell_type": "code",
   "execution_count": null,
   "id": "b20856ba",
   "metadata": {},
   "outputs": [],
   "source": [
    "# An example of pandas.merge() is below.\n",
    "import pandas as pd\n",
    "df1 = pd.DataFrame({'A': [1, 2, 3], 'B': [4, 5, 6]})\n",
    "df2 = pd.DataFrame({'A': [1, 2, 3], 'B': [4, 5, 6]})\n",
    "print(df1)\n",
    "print(df2)\n",
    "print(pd.merge(df1, df2))"
   ]
  },
  {
   "cell_type": "code",
   "execution_count": null,
   "id": "1b4924e5",
   "metadata": {},
   "outputs": [],
   "source": [
    "# An example of pandas.join() is below.\n",
    "import pandas as pd\n",
    "df1 = pd.DataFrame({'A': [1, 2, 3], 'B': [4, 5, 6]})\n",
    "df2 = pd.DataFrame({'A': [1, 2, 3], 'B': [4, 5, 6]})\n",
    "print(df1)\n",
    "print(df2)\n",
    "df3=df1.join(df2, lsuffix=\"_left\", rsuffix=\"_right\")\n",
    "df3"
   ]
  },
  {
   "cell_type": "code",
   "execution_count": null,
   "id": "82be92bb",
   "metadata": {},
   "outputs": [],
   "source": [
    "# An example of pandas.concatenate() is below.\n",
    "import pandas as pd\n",
    "df1 = pd.DataFrame({'A': [1, 2, 3], 'B': [4, 5, 6]})\n",
    "df2 = pd.DataFrame({'A': [1, 2, 3], 'B': [4, 5, 6]})\n",
    "print(df1)\n",
    "print(df2)\n",
    "print(pd.concat([df1, df2]))"
   ]
  },
  {
   "cell_type": "markdown",
   "id": "14f43bc4",
   "metadata": {},
   "source": [
    "## 36) What is the apply() function?\n",
    "\n",
    "> The pandas apply method allows for us to apply a function to every row of a dataframe at a faster rate than a using a for loop to iterate through the Dataframe\n",
    "\n",
    ">The apply() function is used to apply a function to a group of rows or columns. Apply a function along an axis of the DataFrame.\n"
   ]
  },
  {
   "cell_type": "code",
   "execution_count": null,
   "id": "d6b37b1c",
   "metadata": {},
   "outputs": [],
   "source": [
    "# An example of apply() is below.\n",
    "import pandas as pd\n",
    "df = pd.DataFrame({'A': [1, 2, 3], 'B': [4, 5, 6]})\n",
    "print(df)\n",
    "print ('----------')\n",
    "print(df.apply(lambda x: x.max() - x.min()))\n"
   ]
  },
  {
   "cell_type": "markdown",
   "id": "7af1898d",
   "metadata": {},
   "source": [
    "## 37) When do we use pivot_table and when do we use crosstab?\n",
    "\n",
    "Despite their obvious similarities, the two also have some very obvious differences.\n",
    "\n",
    "> Pivot tables generally offer a batch of added benefits and features that may not be available with crosstabs. \n",
    "\n",
    "> Crosstabs let you quickly compare, contrast and otherwise assess sales activity based on the variables you chose."
   ]
  },
  {
   "cell_type": "markdown",
   "id": "14c6dc06",
   "metadata": {},
   "source": [
    "## 38) How do you use groupby?\n",
    "\n",
    "> You use groupby to group data by a set of columns. You can use groupby to group data by a set of columns, or you can use groupby to group data by a set of rows. "
   ]
  },
  {
   "cell_type": "code",
   "execution_count": 110,
   "id": "cf6cf834",
   "metadata": {},
   "outputs": [
    {
     "name": "stdout",
     "output_type": "stream",
     "text": [
      "    A   B   C   D\n",
      "0  A0  B0  C0  D0\n",
      "1  A1  B1  C1  D1\n",
      "2  A2  B2  C2  D2\n",
      "3  A3  B3  C3  D3\n",
      "     B   C   D\n",
      "A             \n",
      "A0  B0  C0  D0\n",
      "A1  B1  C1  D1\n",
      "A2  B2  C2  D2\n",
      "A3  B3  C3  D3\n",
      "        C   D\n",
      "A  B         \n",
      "A0 B0  C0  D0\n",
      "A1 B1  C1  D1\n",
      "A2 B2  C2  D2\n",
      "A3 B3  C3  D3\n",
      "      C                   D               \n",
      "B    B0   B1   B2   B3   B0   B1   B2   B3\n",
      "A                                         \n",
      "A0   C0  NaN  NaN  NaN   D0  NaN  NaN  NaN\n",
      "A1  NaN   C1  NaN  NaN  NaN   D1  NaN  NaN\n",
      "A2  NaN  NaN   C2  NaN  NaN  NaN   D2  NaN\n",
      "A3  NaN  NaN  NaN   C3  NaN  NaN  NaN   D3\n",
      "     C               D            \n",
      "B   B0  B1  B2  B3  B0  B1  B2  B3\n",
      "A                                 \n",
      "A0  C0   0   0   0  D0   0   0   0\n",
      "A1   0  C1   0   0   0  D1   0   0\n",
      "A2   0   0  C2   0   0   0  D2   0\n",
      "A3   0   0   0  C3   0   0   0  D3\n"
     ]
    }
   ],
   "source": [
    "import pandas as pd\n",
    "# an example of groupby:\n",
    "df = pd.DataFrame({'A': ['A0', 'A1', 'A2', 'A3'],\n",
    "                   'B': ['B0', 'B1', 'B2', 'B3'],\n",
    "                   'C': ['C0', 'C1', 'C2', 'C3'],\n",
    "                   'D': ['D0', 'D1', 'D2', 'D3']},\n",
    "                  index=[0, 1, 2, 3])\n",
    "print(df)\n",
    "print(df.groupby('A').sum())\n",
    "print(df.groupby(['A', 'B']).sum())\n",
    "print(df.groupby(['A', 'B']).sum().unstack())\n",
    "print(df.groupby(['A', 'B']).sum().unstack().fillna(0))"
   ]
  },
  {
   "cell_type": "markdown",
   "id": "0eb2e1dc",
   "metadata": {},
   "source": [
    "## 39) What are ways to reshape a pandas dataframe?\n",
    "\n",
    "https://pandas.pydata.org/docs/user_guide/reshaping.html\n",
    "\n",
    "> You can reshape a pandas dataframe with melt(), pivot(), pivot_table() and crosstab(). "
   ]
  },
  {
   "cell_type": "code",
   "execution_count": 111,
   "id": "461202f5",
   "metadata": {},
   "outputs": [
    {
     "name": "stdout",
     "output_type": "stream",
     "text": [
      "    A   B   C   D\n",
      "0  A0  B0  C0  D0\n",
      "1  A1  B1  C1  D1\n",
      "2  A2  B2  C2  D2\n",
      "3  A3  B3  C3  D3\n",
      "     A variable value\n",
      "0   A0        B    B0\n",
      "1   A1        B    B1\n",
      "2   A2        B    B2\n",
      "3   A3        B    B3\n",
      "4   A0        C    C0\n",
      "5   A1        C    C1\n",
      "6   A2        C    C2\n",
      "7   A3        C    C3\n",
      "8   A0        D    D0\n",
      "9   A1        D    D1\n",
      "10  A2        D    D2\n",
      "11  A3        D    D3\n"
     ]
    }
   ],
   "source": [
    "import pandas as pd\n",
    "df = pd.DataFrame({'A': ['A0', 'A1', 'A2', 'A3'],\n",
    "                         'B': ['B0', 'B1', 'B2', 'B3'],\n",
    "                                'C': ['C0', 'C1', 'C2', 'C3'],\n",
    "                                'D': ['D0', 'D1', 'D2', 'D3']},\n",
    "                                   index=[0, 1, 2, 3])\n",
    "print(df)\n",
    "print(pd.melt(df, id_vars=['A'], value_vars=['B', 'C', 'D']))"
   ]
  },
  {
   "cell_type": "code",
   "execution_count": 112,
   "id": "6652f036",
   "metadata": {},
   "outputs": [
    {
     "name": "stdout",
     "output_type": "stream",
     "text": [
      "    A   B   C   D\n",
      "0  A0  B0  C0  D0\n",
      "1  A1  B1  C1  D1\n",
      "2  A2  B2  C2  D2\n",
      "3  A3  B3  C3  D3\n",
      "B    B0   B1   B2   B3\n",
      "A                     \n",
      "A0   C0  NaN  NaN  NaN\n",
      "A1  NaN   C1  NaN  NaN\n",
      "A2  NaN  NaN   C2  NaN\n",
      "A3  NaN  NaN  NaN   C3\n"
     ]
    }
   ],
   "source": [
    "# an example of pivot():\n",
    "import pandas as pd\n",
    "df = pd.DataFrame({'A': ['A0', 'A1', 'A2', 'A3'],\n",
    "                                'B': ['B0', 'B1', 'B2', 'B3'],\n",
    "                                'C': ['C0', 'C1', 'C2', 'C3'],\n",
    "                                'D': ['D0', 'D1', 'D2', 'D3']},\n",
    "                                          index=[0, 1, 2, 3])\n",
    "print(df)\n",
    "print(pd.pivot(df, index='A', columns='B', values='C'))"
   ]
  },
  {
   "cell_type": "code",
   "execution_count": 119,
   "id": "b84dbe32",
   "metadata": {},
   "outputs": [
    {
     "data": {
      "text/html": [
       "<div>\n",
       "<style scoped>\n",
       "    .dataframe tbody tr th:only-of-type {\n",
       "        vertical-align: middle;\n",
       "    }\n",
       "\n",
       "    .dataframe tbody tr th {\n",
       "        vertical-align: top;\n",
       "    }\n",
       "\n",
       "    .dataframe thead th {\n",
       "        text-align: right;\n",
       "    }\n",
       "</style>\n",
       "<table border=\"1\" class=\"dataframe\">\n",
       "  <thead>\n",
       "    <tr style=\"text-align: right;\">\n",
       "      <th></th>\n",
       "      <th>C</th>\n",
       "      <th>large</th>\n",
       "      <th>small</th>\n",
       "    </tr>\n",
       "    <tr>\n",
       "      <th>A</th>\n",
       "      <th>B</th>\n",
       "      <th></th>\n",
       "      <th></th>\n",
       "    </tr>\n",
       "  </thead>\n",
       "  <tbody>\n",
       "    <tr>\n",
       "      <th rowspan=\"2\" valign=\"top\">bar</th>\n",
       "      <th>one</th>\n",
       "      <td>4.0</td>\n",
       "      <td>5.0</td>\n",
       "    </tr>\n",
       "    <tr>\n",
       "      <th>two</th>\n",
       "      <td>7.0</td>\n",
       "      <td>6.0</td>\n",
       "    </tr>\n",
       "    <tr>\n",
       "      <th rowspan=\"2\" valign=\"top\">foo</th>\n",
       "      <th>one</th>\n",
       "      <td>4.0</td>\n",
       "      <td>1.0</td>\n",
       "    </tr>\n",
       "    <tr>\n",
       "      <th>two</th>\n",
       "      <td>NaN</td>\n",
       "      <td>6.0</td>\n",
       "    </tr>\n",
       "  </tbody>\n",
       "</table>\n",
       "</div>"
      ],
      "text/plain": [
       "C        large  small\n",
       "A   B                \n",
       "bar one    4.0    5.0\n",
       "    two    7.0    6.0\n",
       "foo one    4.0    1.0\n",
       "    two    NaN    6.0"
      ]
     },
     "execution_count": 119,
     "metadata": {},
     "output_type": "execute_result"
    }
   ],
   "source": [
    "# an example of pivot_table():\n",
    "import pandas as pd\n",
    "df = pd.DataFrame({\"A\": [\"foo\", \"foo\", \"foo\", \"foo\", \"foo\",\n",
    "                         \"bar\", \"bar\", \"bar\", \"bar\"],\n",
    "                   \"B\": [\"one\", \"one\", \"one\", \"two\", \"two\",\n",
    "                         \"one\", \"one\", \"two\", \"two\"],\n",
    "                   \"C\": [\"small\", \"large\", \"large\", \"small\",\n",
    "                         \"small\", \"large\", \"small\", \"small\",\n",
    "                         \"large\"],\n",
    "                   \"D\": [1, 2, 2, 3, 3, 4, 5, 6, 7],\n",
    "                   \"E\": [2, 4, 5, 5, 6, 6, 8, 9, 9]})\n",
    "table = pd.pivot_table(df, values='D', index=['A', 'B'],\n",
    "                    columns=['C'], aggfunc=np.sum)\n",
    "table"
   ]
  },
  {
   "cell_type": "code",
   "execution_count": 114,
   "id": "73e49b78",
   "metadata": {},
   "outputs": [
    {
     "name": "stdout",
     "output_type": "stream",
     "text": [
      "    A   B   C   D\n",
      "0  A0  B0  C0  D0\n",
      "1  A1  B1  C1  D1\n",
      "2  A2  B2  C2  D2\n",
      "3  A3  B3  C3  D3\n",
      "B   B0  B1  B2  B3\n",
      "A                 \n",
      "A0   1   0   0   0\n",
      "A1   0   1   0   0\n",
      "A2   0   0   1   0\n",
      "A3   0   0   0   1\n"
     ]
    }
   ],
   "source": [
    "# an example of crosstab():\n",
    "import pandas as pd\n",
    "df = pd.DataFrame({'A': ['A0', 'A1', 'A2', 'A3'],\n",
    "                                'B': ['B0', 'B1', 'B2', 'B3'],\n",
    "                                'C': ['C0', 'C1', 'C2', 'C3'],\n",
    "                                'D': ['D0', 'D1', 'D2', 'D3']},\n",
    "                                                index=[0, 1, 2, 3])\n",
    "print(df)\n",
    "print(pd.crosstab(df['A'], df['B']))"
   ]
  },
  {
   "cell_type": "markdown",
   "id": "f6ffe154",
   "metadata": {},
   "source": [
    "## 40) What is the difference between duplicated and drop_duplicates?\n",
    "\n",
    "> duplicated() returns a boolean Series indicating whether each value is duplicated within a group.\n",
    "\n",
    "> drop_duplicates() removes duplicate values from a DataFrame"
   ]
  },
  {
   "cell_type": "code",
   "execution_count": 120,
   "id": "5c04659e",
   "metadata": {},
   "outputs": [
    {
     "name": "stdout",
     "output_type": "stream",
     "text": [
      "    A   B   C   D\n",
      "0  A0  B0  C0  D0\n",
      "1  A1  B1  C1  D1\n",
      "2  A2  B2  C2  D2\n",
      "3  A3  B3  C3  D3\n",
      "0    False\n",
      "1    False\n",
      "2    False\n",
      "3    False\n",
      "dtype: bool\n"
     ]
    }
   ],
   "source": [
    "# an example of duplicated():\n",
    "import pandas as pd\n",
    "df = pd.DataFrame({'A': ['A0', 'A1', 'A2', 'A3'],\n",
    "                                'B': ['B0', 'B1', 'B2', 'B3'],\n",
    "                                'C': ['C0', 'C1', 'C2', 'C3'],\n",
    "                                'D': ['D0', 'D1', 'D2', 'D3']},\n",
    "                                                index=[0, 1, 2, 3])\n",
    "print(df)\n",
    "print(df.duplicated())"
   ]
  },
  {
   "cell_type": "code",
   "execution_count": 121,
   "id": "09c190f8",
   "metadata": {},
   "outputs": [
    {
     "name": "stdout",
     "output_type": "stream",
     "text": [
      "    A   B   C   D\n",
      "0  A0  B0  C0  D0\n",
      "1  A1  B1  C1  D1\n",
      "2  A2  B2  C2  D2\n",
      "3  A3  B3  C3  D3\n",
      "    A   B   C   D\n",
      "0  A0  B0  C0  D0\n",
      "1  A1  B1  C1  D1\n",
      "2  A2  B2  C2  D2\n",
      "3  A3  B3  C3  D3\n"
     ]
    }
   ],
   "source": [
    "# an example of drop_duplicates():\n",
    "import pandas as pd\n",
    "df = pd.DataFrame({'A': ['A0', 'A1', 'A2', 'A3'],\n",
    "                                'B': ['B0', 'B1', 'B2', 'B3'],\n",
    "                                'C': ['C0', 'C1', 'C2', 'C3'],\n",
    "                                'D': ['D0', 'D1', 'D2', 'D3']},\n",
    "                                                index=[0, 1, 2, 3])\n",
    "print(df)\n",
    "print(df.drop_duplicates())"
   ]
  },
  {
   "cell_type": "markdown",
   "id": "262ebf74",
   "metadata": {},
   "source": [
    "## 41) Which all Python libraries have you used for visualization? \n",
    "**The following are the Python libraries that you have used for visualization:**\n",
    "1. matplotlib\n",
    "2. seaborn\n",
    "3. bokeh\n",
    "\n",
    " "
   ]
  },
  {
   "cell_type": "code",
   "execution_count": 122,
   "id": "5af271e7",
   "metadata": {},
   "outputs": [
    {
     "data": {
      "image/png": "[encoded data removed]",
      "text/plain": [
       "<Figure size 432x288 with 1 Axes>"
      ]
     },
     "metadata": {
      "needs_background": "light"
     },
     "output_type": "display_data"
    }
   ],
   "source": [
    "# an example of matplotlib:\n",
    "import matplotlib.pyplot as plt\n",
    "import numpy as np\n",
    "x = np.linspace(0, 10, 100)\n",
    "y = np.sin(x)\n",
    "plt.plot(x, y)\n",
    "plt.show()"
   ]
  },
  {
   "cell_type": "code",
   "execution_count": 123,
   "id": "afe7660e",
   "metadata": {},
   "outputs": [
    {
     "name": "stderr",
     "output_type": "stream",
     "text": [
      "/Users/jay/opt/anaconda3/lib/python3.8/site-packages/seaborn/_decorators.py:36: FutureWarning: Pass the following variables as keyword args: x, y. From version 0.12, the only valid positional argument will be `data`, and passing other arguments without an explicit keyword will result in an error or misinterpretation.\n",
      "  warnings.warn(\n"
     ]
    },
    {
     "data": {
      "image/png": "[encoded data removed]",
      "text/plain": [
       "<Figure size 432x288 with 1 Axes>"
      ]
     },
     "metadata": {
      "needs_background": "light"
     },
     "output_type": "display_data"
    }
   ],
   "source": [
    "# an example of seaborn:\n",
    "import seaborn as sns\n",
    "import numpy as np\n",
    "x = np.linspace(0, 10, 100)\n",
    "y = np.sin(x)\n",
    "sns.lineplot(x, y)\n",
    "plt.show()"
   ]
  },
  {
   "cell_type": "code",
   "execution_count": 126,
   "id": "4e0e6cbe",
   "metadata": {},
   "outputs": [],
   "source": [
    " # an example of bokeh:\n",
    "from bokeh.plotting import figure, output_file, show\n",
    "import numpy as np\n",
    "x = np.linspace(0, 10, 100)\n",
    "y = np.sin(x)\n",
    "p = figure(title='sin(x)')\n",
    "p.line(x, y)\n",
    "output_file('sin.html')\n",
    "show(p)"
   ]
  },
  {
   "cell_type": "markdown",
   "id": "7ecff42e",
   "metadata": {},
   "source": [
    "## 42) List some of the categorical, distribution plots.\n",
    "1. histogram\n",
    "2. boxplot\n",
    "3. violinplot"
   ]
  },
  {
   "cell_type": "code",
   "execution_count": 129,
   "id": "c72121b7",
   "metadata": {},
   "outputs": [
    {
     "data": {
      "text/plain": [
       "(array([13.,  5.,  7.,  6.,  7.,  7.,  9., 10., 11., 25.]),\n",
       " array([-9.99384558e-01, -7.99476868e-01, -5.99569178e-01, -3.99661488e-01,\n",
       "        -1.99753798e-01,  1.53891637e-04,  2.00061581e-01,  3.99969271e-01,\n",
       "         5.99876961e-01,  7.99784651e-01,  9.99692341e-01]),\n",
       " <BarContainer object of 10 artists>)"
      ]
     },
     "execution_count": 129,
     "metadata": {},
     "output_type": "execute_result"
    },
    {
     "data": {
      "image/png": "[encoded data removed]",
      "text/plain": [
       "<Figure size 432x288 with 1 Axes>"
      ]
     },
     "metadata": {
      "needs_background": "light"
     },
     "output_type": "display_data"
    }
   ],
   "source": [
    "# an example of histogram():\n",
    "import matplotlib.pyplot as plt\n",
    "import numpy as np\n",
    "x = np.linspace(0, 10, 100)\n",
    "y = np.sin(x)\n",
    "plt.hist(y)"
   ]
  },
  {
   "cell_type": "code",
   "execution_count": 130,
   "id": "6fecbb69",
   "metadata": {},
   "outputs": [
    {
     "data": {
      "text/plain": [
       "{'whiskers': [<matplotlib.lines.Line2D at 0x7fc7129ce250>,\n",
       "  <matplotlib.lines.Line2D at 0x7fc7129b2640>],\n",
       " 'caps': [<matplotlib.lines.Line2D at 0x7fc7129b2a00>,\n",
       "  <matplotlib.lines.Line2D at 0x7fc7129b2b20>],\n",
       " 'boxes': [<matplotlib.lines.Line2D at 0x7fc7129ce460>],\n",
       " 'medians': [<matplotlib.lines.Line2D at 0x7fc7129b2820>],\n",
       " 'fliers': [<matplotlib.lines.Line2D at 0x7fc712518370>],\n",
       " 'means': []}"
      ]
     },
     "execution_count": 130,
     "metadata": {},
     "output_type": "execute_result"
    },
    {
     "data": {
      "image/png": "[encoded data removed]",
      "text/plain": [
       "<Figure size 432x288 with 1 Axes>"
      ]
     },
     "metadata": {
      "needs_background": "light"
     },
     "output_type": "display_data"
    }
   ],
   "source": [
    "# an example of boxplot():\n",
    "import matplotlib.pyplot as plt\n",
    "import numpy as np\n",
    "x = np.linspace(0, 10, 100)\n",
    "y = np.sin(x)\n",
    "plt.boxplot(y)"
   ]
  },
  {
   "cell_type": "code",
   "execution_count": 131,
   "id": "ce929d0d",
   "metadata": {},
   "outputs": [
    {
     "data": {
      "text/plain": [
       "{'bodies': [<matplotlib.collections.PolyCollection at 0x7fc75089f160>],\n",
       " 'cmaxes': <matplotlib.collections.LineCollection at 0x7fc75089fa90>,\n",
       " 'cmins': <matplotlib.collections.LineCollection at 0x7fc75089fa30>,\n",
       " 'cbars': <matplotlib.collections.LineCollection at 0x7fc7508bc280>}"
      ]
     },
     "execution_count": 131,
     "metadata": {},
     "output_type": "execute_result"
    },
    {
     "data": {
      "image/png": "[encoded data removed]",
      "text/plain": [
       "<Figure size 432x288 with 1 Axes>"
      ]
     },
     "metadata": {
      "needs_background": "light"
     },
     "output_type": "display_data"
    }
   ],
   "source": [
    "# an example of violinplot():\n",
    "import matplotlib.pyplot as plt\n",
    "import numpy as np\n",
    "x = np.linspace(0, 10, 100)\n",
    "y = np.sin(x)\n",
    "plt.violinplot(y)"
   ]
  },
  {
   "cell_type": "markdown",
   "id": "2829f095",
   "metadata": {},
   "source": [
    "## 43) What is a scatter plot?\n",
    "A scatter plot (aka scatter chart, scatter graph) uses dots to represent values for two different numeric variables. The position of each dot on the horizontal and vertical axis indicates values for an individual data point. Scatter plots are used to observe relationships between variables."
   ]
  },
  {
   "cell_type": "markdown",
   "id": "f69f069c",
   "metadata": {},
   "source": [
    "## 44) What is the difference between regplot(), lmplot() and residplot()?\n",
    "regplot() performs a simple linear regression model fit and plot. lmplot() combines regplot() and FacetGrid.\n",
    "\n",
    "The FacetGrid class helps in visualizing the distribution of one variable as well as the relationship between multiple variables separately within subsets of your dataset using multiple panels.\n",
    "\n",
    "lmplot() is more computationally intensive and is intended as a convenient interface to fit regression models across conditional subsets of a dataset.\n",
    "\n",
    "residplot\n",
    "Plot the residuals of a linear regression.\n",
    "\n",
    "This function will regress y on x (possibly as a robust or polynomial regression) and then draw a scatterplot of the residuals. You can optionally fit a lowess smoother to the residual plot, which can help in determining if there is structure to the residuals."
   ]
  },
  {
   "cell_type": "markdown",
   "id": "18dddd68",
   "metadata": {},
   "source": [
    "## 45) What is a heatmap?\n",
    "sns.heatmap()\n",
    "A heatmap is a plot of rectangular data as a color-encoded matrix. As parameter it takes a 2D dataset. That dataset can be coerced into an ndarray. This is a great way to visualize data, because it can show the relation between variabels including time."
   ]
  },
  {
   "cell_type": "markdown",
   "id": "0c85cd90",
   "metadata": {},
   "source": [
    "## 46) What is the difference between stripplot() and swarmplot()?\n",
    "The stripplot will draw a scatterplot where one variable is categorical. A strip plot can be drawn on its own, but it is also a good complement to a box or violin plot in cases where you want to show all observations along with some representation of the underlying distribution.\n",
    "\n",
    "The swarmplot is similar to stripplot(), but the points are adjusted (only along the categorical axis) so that they don’t overlap. This gives a better representation of the distribution of values, although it does not scale as well to large numbers of observations (both in terms of the ability to show all the points and in terms of the computation needed to arrange them)."
   ]
  },
  {
   "cell_type": "markdown",
   "id": "6c9daf43",
   "metadata": {},
   "source": [
    "## 47) What is the purpose of density plot or  kde plot? Where are these used?\n",
    "KDE Plot described as Kernel Density Estimate is used for visualizing the Probability Density of a continuous variable. It depicts the probability density at different values in a continuous variable. We can also plot a single graph for multiple samples which helps in more efficient data visualization."
   ]
  },
  {
   "cell_type": "markdown",
   "id": "3a7182dd",
   "metadata": {},
   "source": [
    "## 48) How is violinplot() different from boxplot()?\n",
    "https://matplotlib.org/3.1.1/gallery/statistics/boxplot_vs_violin.html\n"
   ]
  },
  {
   "cell_type": "markdown",
   "id": "56bd9404",
   "metadata": {},
   "source": [
    "## 49) What is FacetGrid?\n",
    "seaborn.FacetGrid()\n",
    "\n",
    "Facetgrid maps the dataset onto multiple axes arrayed in a grid of rows and columns which will corresspons to levels of variables in the dataset\n",
    "FacetGrid class helps in visualizing distribution of one variable as well as the relationship between multiple variables separately within subsets of your dataset using multiple panels."
   ]
  },
  {
   "cell_type": "markdown",
   "id": "31a675ed",
   "metadata": {},
   "source": [
    "## 50) What is a Pairplot?\n",
    "seaborn.pairplot()\n",
    "A pairplot plot a pairwise relationships in a dataset. The pairplot function creates a grid of Axes such that each variable in data will by shared in the y-axis across a single row and in the x-axis across a single column. That creates plots as shown below."
   ]
  },
  {
   "cell_type": "markdown",
   "id": "80ceda1d",
   "metadata": {},
   "source": [
    "# Add section for git commands"
   ]
  },
  {
   "cell_type": "markdown",
   "id": "06a3caac",
   "metadata": {},
   "source": [
    "# Python Review Questions"
   ]
  },
  {
   "cell_type": "markdown",
   "id": "346fd292",
   "metadata": {},
   "source": [
    "## What is Git?\n",
    "Git is a mature, actively maintained open source project originally developed in 2005 by Linus Torvalds, the famous creator of the Linux operating system kernel."
   ]
  },
  {
   "cell_type": "markdown",
   "id": "4dc2b61c",
   "metadata": {},
   "source": [
    "## What about GitHub? How are they related?\n",
    "https://github.com/"
   ]
  },
  {
   "cell_type": "markdown",
   "id": "091f2be0",
   "metadata": {},
   "source": [
    "## What command moves changes from GitHub to our local repo?\n",
    "git clone https://rep@github.com"
   ]
  },
  {
   "cell_type": "markdown",
   "id": "b6839e6b",
   "metadata": {},
   "source": [
    "## What command moves changes from our local repo to GitHub?\n",
    "git push"
   ]
  },
  {
   "cell_type": "markdown",
   "id": "7de1d803",
   "metadata": {},
   "source": [
    " ## What two commands are used in sequence to save changes to our local repo?\n",
    "\n",
    "1) What is the difference between an interpreter and a compiler? Which does Python use?\n",
    "    \n",
    "    Python is an interpreted language. Python is interpreted into byte code and executed by the python virtual machine.\n",
    "\n",
    "    Second, compilation is not restricted to ahead-of-time compilation to native machine code. A compiler is, more generally, a program that converts a program in one programming language into a program in another programming language "
   ]
  },
  {
   "cell_type": "markdown",
   "id": "69a59ff5",
   "metadata": {},
   "source": [
    "    \n",
    "2) What is a REPL?\n",
    "    *  Read - read in data \n",
    "    * Evaluate evaluate the data\n",
    "    * Print\n",
    "    * Loop - print the data \n",
    "    The python execution loop that read evaluates and prints data."
   ]
  },
  {
   "cell_type": "markdown",
   "id": "9de85164",
   "metadata": {},
   "source": [
    "3) What is a compound statement?\n",
    "A compound statement contains groups of other statements and used to control the execution of the statements"
   ]
  },
  {
   "cell_type": "markdown",
   "id": "69e39a32",
   "metadata": {},
   "source": [
    "4) What data types do we have by default in Python?\n",
    "What data types do we have by default?\n",
    "\ttext(str), numeric(int, float, complex), sequence(list,tuple,range), mapping(dict), set(set, frozenset), boolean(bool), binary(bytes,bytearray,memoryview), none(nonetype)\n",
    "    "
   ]
  },
  {
   "cell_type": "markdown",
   "id": "85a9ecef",
   "metadata": {},
   "source": [
    "5) What is a namespace?\n",
    "Namespaces in Python. A namespace is a collection of currently defined symbolic names along with information about the object that each name references. You can think of a namespace as a dictionary in which the keys are the object names and the values are the objects themselves.\n",
    "better answer to number 5)  there are four types of namespaces:\n",
    "https://realpython.com/python-namespaces-scope/\n",
    "Built-In\n",
    "Global\n",
    "Enclosing\n",
    "Local"
   ]
  },
  {
   "cell_type": "markdown",
   "id": "b6fee666",
   "metadata": {},
   "source": [
    "6) What is the scope of a variable?\n",
    "    Scope of the variable refers to the context in which a variable is available\n",
    "    - Global\n",
    "    - Local\n",
    "    - built-in\n",
    "    "
   ]
  },
  {
   "cell_type": "markdown",
   "id": "58234086",
   "metadata": {},
   "source": [
    "    \n",
    "7) What are the different operators we have in Python?\n",
    "\n",
    "    - Arithmetic operators\n",
    "    - Assignment operators\n",
    "    - Comparison operators\n",
    "    - Logical operators\n",
    "    - Identity operators\n",
    "    - Membership operators\n",
    "    - Bitwise operators\n",
    "    https://www.w3schools.com/python/python_operators.asp\n"
   ]
  },
  {
   "cell_type": "markdown",
   "id": "9b789d93",
   "metadata": {},
   "source": [
    "    \n",
    "8) What are functions?\n",
    "A function is a block of code which only runs when it is called. You can pass data, known as parameters, into a function. A function can return data as a result."
   ]
  },
  {
   "cell_type": "markdown",
   "id": "2526d344",
   "metadata": {},
   "source": [
    "9) What is a lambda function? What is the syntax for creating a lambda?\n",
    "\n",
    "A lambda function is a small anonymous function.\n",
    "\n",
    "A lambda function can take any number of arguments, but can only have one expression.lambda arguments : expression"
   ]
  },
  {
   "cell_type": "markdown",
   "id": "20aed1ca",
   "metadata": {},
   "source": [
    "10) What is a list?\n",
    "\t- https://docs.python.org/3/tutorial/datastructures.html"
   ]
  },
  {
   "cell_type": "markdown",
   "id": "30ef665e",
   "metadata": {},
   "source": [
    "11) What is a set?\n",
    "A set is an unordered, unchangeable, and unindexed built in data structure. It is unique in the fact that it will not allow duplicates and is uniquely used over other data structures to remove duplicates."
   ]
  },
  {
   "cell_type": "markdown",
   "id": "fce11591",
   "metadata": {},
   "source": [
    "12) What is a tuple?\n",
    "Tuples are used to store multiple items in a single variable.\n",
    " Built-in data type.\n",
    "\n",
    "A tuple is a collection which is ordered and unchangeable.\n",
    "\n",
    "Tuples are written with round brackets.\n",
    "ex. thistuple = (\"apple\", \"banana\", \"cherry\")"
   ]
  },
  {
   "cell_type": "markdown",
   "id": "0ecb2d60",
   "metadata": {},
   "source": [
    "13) What is a Dictionary?\n",
    "\n",
    "Dictionaries are used to store data values in key:value pairs. A dictionary is a collection which is ordered*, changeable and do not allow duplicates. As of Python version 3.7, dictionaries are ordered. In Python 3.6 and earlier, dictionaries are unordered."
   ]
  },
  {
   "cell_type": "markdown",
   "id": "81ac6701",
   "metadata": {},
   "source": [
    "14) How can we open a file? What are the different modes for opening a file?\n",
    "\t- https://docs.python.org/3/tutorial/inputoutput.html\n",
    "How to open file? use open() function. returns a file object; used with two positional arguments and one keyword argument\n",
    "open(filename, mode, encoding=None)\n",
    ">>> f = open('workfile', 'w', encoding=\"utf-8\")\n",
    "\t\t\n",
    "Different modes: text mode(read and write strings to/from file, encoded, default platform encoding), and binary mode."
   ]
  },
  {
   "cell_type": "markdown",
   "id": "8c868205",
   "metadata": {},
   "source": [
    "15) What is a module? How do we import a module?\n",
    "\t- https://docs.python.org/3/tutorial/modules.html"
   ]
  },
  {
   "cell_type": "markdown",
   "id": "e5bb1f00",
   "metadata": {},
   "source": [
    "16) What is a datetime object?\n",
    "Datetime objects are from a python module that allows for interactions with date and time based on our time system. Datetime objects are objects and cannot be interacted as a string, requiring datetime functions and calls to manipulate and interact with."
   ]
  },
  {
   "cell_type": "markdown",
   "id": "a401dc9f",
   "metadata": {},
   "source": [
    "# 17) What are Regular Expressions? How do we use them?\n",
    "A RegEx, or Regular Expression, is a sequence of characters that forms a search pattern.\n",
    "\n",
    "RegEx can be used to check if a string contains the specified search pattern.\n",
    "source: https://www.w3schools.com/python/python_regex.asp"
   ]
  },
  {
   "cell_type": "markdown",
   "id": "02758a87",
   "metadata": {},
   "source": [
    "18) What are some data collections we have at our disposal in the Collections module?\n",
    "top 6  collections  1)OrderedDict  2)ChainMap 3)Counter 4)  Deque 5)Namedtuple() 6)Defaultdict"
   ]
  },
  {
   "cell_type": "markdown",
   "id": "baafcff2",
   "metadata": {},
   "source": [
    "19) What is a class? What is an object?\n",
    "\t- https://docs.python.org/3/tutorial/classes.html\n",
    "    Class: Classes allow the bundling of data and functionality into one object. \n",
    "Creating a class creates a new type of object which allows new instances of that type to be made. Instances can have methods for modifying its state.\n",
    "\n",
    "Object: An object is an instance of a class. A class is a sort of blueprint; an object is an implementation of that blueprint. \n",
    "For instance, if we had a class called \"Car\" with various functions like drive_forward and states like gas_tank_full, a \"Car\" object would be a specific car instance i.e. \"Ford Model A\"."
   ]
  },
  {
   "cell_type": "markdown",
   "id": "2b4a2405",
   "metadata": {},
   "source": [
    "20) What are the pillars of Object Oriented Programming? (OOP) Explain them.\n",
    "\t- https://medium.com/swlh/the-4-pillars-of-oop-in-python-9daaca4c0d13"
   ]
  },
  {
   "cell_type": "markdown",
   "id": "ed91ed29",
   "metadata": {},
   "source": [
    "# 21) Know the different flow control statements (if/elif/else, for loops, while loops, etc.)\n",
    "if/elif/else are used for control flow\n",
    "- for loops are used for iteration\n",
    "- while loops are iterators that iterate while a statement is true\n",
    "- or \n",
    "- and \n",
    "- in\n",
    "- pass\n",
    "- continue\n",
    "- break\n",
    "\n",
    "\n"
   ]
  },
  {
   "cell_type": "markdown",
   "id": "921bcbfe",
   "metadata": {},
   "source": [
    "# 22) What are exceptions? How can we handle them?\n",
    "\t- https://docs.python.org/3/tutorial/errors.html"
   ]
  }
 ],
 "metadata": {
  "kernelspec": {
   "display_name": "Python 3",
   "language": "python",
   "name": "python3"
  },
  "language_info": {
   "codemirror_mode": {
    "name": "ipython",
    "version": 3
   },
   "file_extension": ".py",
   "mimetype": "text/x-python",
   "name": "python",
   "nbconvert_exporter": "python",
   "pygments_lexer": "ipython3",
   "version": "3.8.8"
  }
 },
 "nbformat": 4,
 "nbformat_minor": 5
}
