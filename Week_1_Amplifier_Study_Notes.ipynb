{
 "cells": [
  {
   "cell_type": "markdown",
   "id": "c8c3fdb2",
   "metadata": {},
   "source": [
    "# Week 1 Revature\n",
    "\n"
   ]
  },
  {
   "cell_type": "markdown",
   "id": "ed547061",
   "metadata": {},
   "source": [
    "> ### Time sheets due by end of week Friday 3:00 Eastern"
   ]
  },
  {
   "cell_type": "markdown",
   "id": "3026b46f",
   "metadata": {},
   "source": [
    "### Before you ask a question: \n",
    "> Google\n",
    "\n",
    "> Stack Overflow\n",
    "\n",
    "> Try to solve for at least 15 mins"
   ]
  },
  {
   "cell_type": "markdown",
   "id": "68422638",
   "metadata": {},
   "source": [
    "### Every friday there will be a Hacker Rank challenge\n",
    "> [Python](https://www.hackerrank.com/domains/python)\n",
    "\n",
    "> [SQL](https://www.hackerrank.com/domains/sql)"
   ]
  },
  {
   "cell_type": "markdown",
   "id": "1c7c82ad",
   "metadata": {},
   "source": [
    "# The Five V's of Big Data"
   ]
  },
  {
   "cell_type": "markdown",
   "id": "b8a2d8db",
   "metadata": {},
   "source": [
    "Big data is a collection of data from many different sources and is often described by five characteristics: volume, value, variety, velocity, and veracity."
   ]
  },
  {
   "cell_type": "markdown",
   "id": "05351624",
   "metadata": {},
   "source": [
    "## Volume\n",
    "> the size and amounts of big data that companies manage and analyze."
   ]
  },
  {
   "cell_type": "markdown",
   "id": "30e521ba",
   "metadata": {},
   "source": [
    "## Value\n",
    "\n",
    ">the most important “V” from the perspective of the business, the value of big data usually comes from insight discovery and pattern recognition that lead to more effective operations, stronger customer relationships, and other clear and quantifiable business benefits.\n",
    "\n",
    "### The emerging V is value.\n",
    "> The value comes from turning the data into valuable, actionable information. The value of data is derived from processing and creating useful information that leads to valuable business insights."
   ]
  },
  {
   "cell_type": "markdown",
   "id": "e1f5ec1a",
   "metadata": {},
   "source": [
    "## Variety\n",
    "\n",
    "> The diversity and range of different data types, including unstructured data, semi-structured data, and raw data."
   ]
  },
  {
   "cell_type": "markdown",
   "id": "5bdb6d12",
   "metadata": {},
   "source": [
    "## Types of data:\n",
    "\n",
    "### Structured data\n",
    "\n",
    "> Structured data is data whose elements are addressable for effective analysis. It has been organized into a formatted repository that is typically a database. It concerns all data stored in database SQL in a table with rows and columns. They have relational keys and can easily be mapped into pre-designed fields. Today, those data are most processed in the development and most straightforward way to manage information. Example: Relational data. \n",
    " \n",
    "### Semi-Structured data\n",
    "\n",
    "> Semi-structured data is information that does not reside in a relational database but has some organizational properties that make it easier to analyze. With some processes, you can store them in the relation database (it could be very hard for some kind of semi-structured data), but Semi-structured exist to ease space. Example: XML data. \n",
    " \n",
    "### Unstructured data \n",
    "\n",
    "> Unstructured data is data that is not organized in a predefined manner or without a predefined data model. Thus it is not a good fit for a mainstream relational database. However, there are alternative platforms for storing and managing. Example: Word, PDF, Text, Media logs. "
   ]
  },
  {
   "cell_type": "markdown",
   "id": "84258d61",
   "metadata": {},
   "source": [
    "## Velocity\n",
    "> The speed at which companies receive, store and manage data – e.g., the specific number of social media posts or search queries received within a day, an hour, or another unit of time."
   ]
  },
  {
   "cell_type": "markdown",
   "id": "75fe72b4",
   "metadata": {},
   "source": [
    "## Veracity \n",
    "\n",
    "> The “truth” or accuracy of data and information assets, which often determines executive-level confidence."
   ]
  },
  {
   "cell_type": "markdown",
   "id": "29436389",
   "metadata": {},
   "source": [
    "# ETL\n",
    "\n",
    "## Extract\n",
    "\n",
    "> Data extraction involves extracting data from homogeneous or heterogeneous sources; data transformation processes data by data cleaning and transforming it into a proper storage format/structure for the purposes of querying and analysis; finally, data loading describes the insertion of data into the final target database such as an operational data store, a data mart, data lake or a data warehouse.\n",
    "\n",
    "## Transform\n",
    "\n",
    "> In the data transformation stage, a series of rules or functions are applied to the extracted data in order to prepare it for loading into the end target.\n",
    "\n",
    "> An important function of transformation is data cleansing, which aims to pass only \"proper\" data to the target. The challenge when different systems interact is in the relevant systems' interfacing and communicating. Character sets that may be available in one system may not be so in others.\n",
    "\n",
    "## Load\n",
    "\n",
    "> The load phase loads the data into the end target, which can be any data store including a simple delimited flat file or a data warehouse.[5] Depending on the requirements of the organization, this process varies widely. Some data warehouses may overwrite existing information with cumulative information; updating extracted data is frequently done on a daily, weekly, or monthly basis."
   ]
  },
  {
   "cell_type": "markdown",
   "id": "99a2fe4b",
   "metadata": {},
   "source": [
    "## Software Developement life cycle\n",
    "\n",
    "* generate \n",
    "* collect\n",
    "* process\n",
    "* storage\n",
    "* management\n",
    "* analysis\n",
    "* visualization\n",
    "* interpretation"
   ]
  },
  {
   "cell_type": "markdown",
   "id": "3cf376bd",
   "metadata": {},
   "source": [
    "# Python Interview Questions for Data Science"
   ]
  },
  {
   "cell_type": "markdown",
   "id": "8a455830",
   "metadata": {},
   "source": [
    "## 1) Is Python an object-oriented language? What is object-oriented programming? \n",
    "Python is a object oriented language. In fact everything inside python is an object. Object Oriented Programming is a method \n",
    " of programming aimming to increase functionality and compactibility to organize and ease of reading."
   ]
  },
  {
   "cell_type": "markdown",
   "id": "6467ac36",
   "metadata": {},
   "source": [
    "## 2) What is a Python module? How is it different from libraries?\n",
    "A file containing a set of functions, classes, or variables you can also include runnable cod In modules. A library is often considered a collection of modules."
   ]
  },
  {
   "cell_type": "markdown",
   "id": "a9078464",
   "metadata": {},
   "source": [
    "## 3) What is PEP8?\n",
    "PEP 8, sometimes spelled PEP8 or PEP-8, is a document that provides guidelines and best practices on how to write Python code. It was written in 2001 by Guido van Rossum, Barry Warsaw, and Nick Coghlan. The primary focus of PEP 8 is to improve the readability and consistency of Python code."
   ]
  },
  {
   "cell_type": "markdown",
   "id": "b0b8eaa9",
   "metadata": {},
   "source": [
    "## 4)Name mutable and immutable objects.\n",
    "Name mutable and immutable objects.\n",
    "A mutable object is an object in which its values can be changed.\n",
    "Example will change the first index from \"One\" to \"Not a number\": \n",
    "number = [\"One, Two, Three\"]\n",
    "number[0] = \"Not a number\"\n",
    "\n",
    "An immutable object is one which cannot change the values after instantiation.\n",
    "A good example are tuples; their data cannot be changed once implemented."
   ]
  },
  {
   "cell_type": "markdown",
   "id": "e434feea",
   "metadata": {},
   "source": [
    "## 5) What are compound data types and data structures?\n",
    "A composite or compound data type is built by combining primitive data types. An example of a composite or compound data type is a record or a class. A data structure is a collection of data that is organised to allow efficient processing."
   ]
  },
  {
   "cell_type": "markdown",
   "id": "ba7b3c06",
   "metadata": {},
   "source": [
    "## 6) What is the difference between a list and a tuple?  \n",
    "Tuples are immutable while Lists are mutable. This makes tuples more memory efficient\n",
    "\n",
    "Tuples are immutable while Lists are mutable. This makes tuples more memory efficient"
   ]
  },
  {
   "cell_type": "markdown",
   "id": "78ebe787",
   "metadata": {},
   "source": [
    "## 7) What are list and dictionary comprehension? Give an example of each."
   ]
  },
  {
   "cell_type": "markdown",
   "id": "ca223faf",
   "metadata": {},
   "source": [
    "### list comprehensions"
   ]
  },
  {
   "cell_type": "code",
   "execution_count": 1,
   "id": "01860f91",
   "metadata": {},
   "outputs": [
    {
     "name": "stdout",
     "output_type": "stream",
     "text": [
      "['Alan is awesome', 'Adam is awesome', 'Wes is awesome', 'Will is awesome', 'Albert is awesome', 'Steven is awesome', 'john is awesome', 'emily is awesome', 'rick is awesome', 'james is awesome', 'tim is awesome', 'juan is awesome', 'devon is awesome', 'jay is awesome']\n"
     ]
    }
   ],
   "source": [
    "names = ['Alan','Adam','Wes','Will','Albert','Steven','john','emily','rick','james','tim','juan','devon','jay',]\n",
    "# the logic is handled at the first part of the list comprehension where name is, ex: name + ' is awesome'\n",
    "list_built_by_list_comprehension = [name + ' is awesome' for name in names]\n",
    "print(list_built_by_list_comprehension)\n"
   ]
  },
  {
   "cell_type": "code",
   "execution_count": 2,
   "id": "9eecc705",
   "metadata": {},
   "outputs": [],
   "source": [
    "# make an object\n",
    "states = ['Alabama', 'AlaSka', 'Arizona', 'Arkansas', 'California', 'Colorado', 'ConnectiCut  ', 'Delaware', 'Florida', 'Georgia', 'Hawaii', 'Idaho', 'Illinois', 'Indiana   ', 'Iowa', 'Kansas', 'Kentucky', 'Louisiana', 'Maine', 'Maryland', '  Massachusetts', 'Michigan', 'Minnesota', 'Mississippi', 'Missouri   ', '   Montana', 'Nebraska', 'Nevada', 'New Hampshire', 'New Jersey', 'New Mexico  ', 'New YorK ', 'North Carolina', 'North Dakota', 'Ohio', 'Oklahoma', 'Oregon', 'Pennsylvania', 'Rhode Island', 'South Carolina', 'South Dakota', 'Tennessee', 'Texas', 'Utah', '# Vermont', 'Virginia', 'Washington', 'West Virginia', 'Wisconsin', 'Wyoming #']"
   ]
  },
  {
   "cell_type": "code",
   "execution_count": 3,
   "id": "25af9333",
   "metadata": {},
   "outputs": [],
   "source": [
    "# set states to lower case and remove spaces and hashes and space individual words (using list comprehension)\n",
    "clean_states = [item.lower().strip().replace('#', '').title() for item in states]"
   ]
  },
  {
   "cell_type": "code",
   "execution_count": 4,
   "id": "a26430bd",
   "metadata": {},
   "outputs": [],
   "source": [
    "# list of state abbreviations\n",
    "state_abbreviations = ['AL', 'AK', 'AZ', 'AR', 'CA', 'CO', 'CT', 'DE', 'FL', 'GA', 'HI', 'ID', 'IL', 'IN', 'IA', 'KS', 'KY', 'LA', 'ME', 'MD', 'MA', 'MI', 'MN', 'MS', 'MO', 'MT', 'NE', 'NV', 'NH', 'NJ', 'NM', 'NY', 'NC', 'ND', 'OH', 'OK', 'OR', 'PA', 'RI', 'SC', 'SD', 'TN', 'TX', 'UT', 'VT', 'VA', 'WA', 'WV', 'WI', 'WY']\n",
    "# create dictionary of states and abbreviations\n",
    "states_dict = dict(zip(clean_states, state_abbreviations))"
   ]
  },
  {
   "cell_type": "code",
   "execution_count": 5,
   "id": "cac8e513",
   "metadata": {},
   "outputs": [
    {
     "data": {
      "text/plain": [
       "{'Alabama': 'AL',\n",
       " 'Alaska': 'AK',\n",
       " 'Arizona': 'AZ',\n",
       " 'Arkansas': 'AR',\n",
       " 'California': 'CA',\n",
       " 'Colorado': 'CO',\n",
       " 'Connecticut': 'CT',\n",
       " 'Delaware': 'DE',\n",
       " 'Florida': 'FL',\n",
       " 'Georgia': 'GA',\n",
       " 'Hawaii': 'HI',\n",
       " 'Idaho': 'ID',\n",
       " 'Illinois': 'IL',\n",
       " 'Indiana': 'IN',\n",
       " 'Iowa': 'IA',\n",
       " 'Kansas': 'KS',\n",
       " 'Kentucky': 'KY',\n",
       " 'Louisiana': 'LA',\n",
       " 'Maine': 'ME',\n",
       " 'Maryland': 'MD',\n",
       " 'Massachusetts': 'MA',\n",
       " 'Michigan': 'MI',\n",
       " 'Minnesota': 'MN',\n",
       " 'Mississippi': 'MS',\n",
       " 'Missouri': 'MO',\n",
       " 'Montana': 'MT',\n",
       " 'Nebraska': 'NE',\n",
       " 'Nevada': 'NV',\n",
       " 'New Hampshire': 'NH',\n",
       " 'New Jersey': 'NJ',\n",
       " 'New Mexico': 'NM',\n",
       " 'New York': 'NY',\n",
       " 'North Carolina': 'NC',\n",
       " 'North Dakota': 'ND',\n",
       " 'Ohio': 'OH',\n",
       " 'Oklahoma': 'OK',\n",
       " 'Oregon': 'OR',\n",
       " 'Pennsylvania': 'PA',\n",
       " 'Rhode Island': 'RI',\n",
       " 'South Carolina': 'SC',\n",
       " 'South Dakota': 'SD',\n",
       " 'Tennessee': 'TN',\n",
       " 'Texas': 'TX',\n",
       " 'Utah': 'UT',\n",
       " ' Vermont': 'VT',\n",
       " 'Virginia': 'VA',\n",
       " 'Washington': 'WA',\n",
       " 'West Virginia': 'WV',\n",
       " 'Wisconsin': 'WI',\n",
       " 'Wyoming ': 'WY'}"
      ]
     },
     "execution_count": 5,
     "metadata": {},
     "output_type": "execute_result"
    }
   ],
   "source": [
    "states_dict"
   ]
  },
  {
   "cell_type": "markdown",
   "id": "a054d898",
   "metadata": {},
   "source": [
    "### dict comprehensions"
   ]
  },
  {
   "cell_type": "markdown",
   "id": "8b9de552",
   "metadata": {},
   "source": [
    "#### Pay attention to the fact that to create an iterable you have to call dict.keys(), dict.values(), or dict.items()\n",
    "- dict.keys() - will iterate over the dictionaries keys\n",
    "- dict.values()- will iterate over the dictionaries values\n",
    "- dict.items()- will iterate over the dictionaries items. The item is the key and value => (key:value)\n"
   ]
  },
  {
   "cell_type": "code",
   "execution_count": 6,
   "id": "4f1493e7",
   "metadata": {},
   "outputs": [],
   "source": [
    "states_alphabetical = {k: v for k, v in sorted(states_dict.items(), key=lambda item: item[1], reverse=True)}"
   ]
  },
  {
   "cell_type": "code",
   "execution_count": 7,
   "id": "2a6f8c38",
   "metadata": {},
   "outputs": [
    {
     "name": "stdout",
     "output_type": "stream",
     "text": [
      "{'Wyoming ': 'WY', 'West Virginia': 'WV', 'Wisconsin': 'WI', 'Washington': 'WA', ' Vermont': 'VT', 'Virginia': 'VA', 'Utah': 'UT', 'Texas': 'TX', 'Tennessee': 'TN', 'South Dakota': 'SD', 'South Carolina': 'SC', 'Rhode Island': 'RI', 'Pennsylvania': 'PA', 'Oregon': 'OR', 'Oklahoma': 'OK', 'Ohio': 'OH', 'New York': 'NY', 'Nevada': 'NV', 'New Mexico': 'NM', 'New Jersey': 'NJ', 'New Hampshire': 'NH', 'Nebraska': 'NE', 'North Dakota': 'ND', 'North Carolina': 'NC', 'Montana': 'MT', 'Mississippi': 'MS', 'Missouri': 'MO', 'Minnesota': 'MN', 'Michigan': 'MI', 'Maine': 'ME', 'Maryland': 'MD', 'Massachusetts': 'MA', 'Louisiana': 'LA', 'Kentucky': 'KY', 'Kansas': 'KS', 'Indiana': 'IN', 'Illinois': 'IL', 'Idaho': 'ID', 'Iowa': 'IA', 'Hawaii': 'HI', 'Georgia': 'GA', 'Florida': 'FL', 'Delaware': 'DE', 'Connecticut': 'CT', 'Colorado': 'CO', 'California': 'CA', 'Arizona': 'AZ', 'Arkansas': 'AR', 'Alabama': 'AL', 'Alaska': 'AK'}\n"
     ]
    }
   ],
   "source": [
    "print(states_alphabetical)"
   ]
  },
  {
   "cell_type": "markdown",
   "id": "38dd4b68",
   "metadata": {},
   "source": [
    "## 8) What is tuple unpacking? Why is it important?\n",
    "Python Tuples In python tuples are used to store immutable objects. Python Tuples are very similar to lists except to some situations. Python tuples are immutable means that they can not be modified in whole program.\n",
    "\n",
    "Packing and Unpacking a Tuple: In Python, there is a very powerful tuple assignment feature that assigns the right-hand side of values into the left-hand side. In another way, it is called unpacking of a tuple of values into a variable. In packing, we put values into a new tuple while in unpacking we extract those values into a single variable."
   ]
  },
  {
   "cell_type": "markdown",
   "id": "fc288c32",
   "metadata": {},
   "source": [
    "## 9) What are generators and decorators?\n",
    "A generator is a function that uses an iterator to generate a value. A decorator is a function used as a wrapper around another function; a decorator can be used in this manner to modify or extend the behavior of the wrapped function."
   ]
  },
  {
   "cell_type": "markdown",
   "id": "fa57c863",
   "metadata": {},
   "source": [
    "## 10) What is the difference between %,  / and // ?\n",
    "A generator is a function that uses an iterator to generate a value. A decorator is a function used as a wrapper around another function; a decorator can be used in this manner to modify or extend the behavior of the wrapped function."
   ]
  },
  {
   "cell_type": "markdown",
   "id": "6eb4068e",
   "metadata": {},
   "source": [
    "## 11) What is the difference between is and ‘==’ ?\n",
    "The Equality operator (==) is a comparison operator in Python that compare values of both the operands and checks for value equality. Whereas the ‘is’ operator is the membership operator that checks whether both the operands refer to the same object or not (present in the same memory location)."
   ]
  },
  {
   "cell_type": "markdown",
   "id": "b3be41c7",
   "metadata": {},
   "source": [
    "## 12) What is the difference between indexing and slicing?\n",
    "Indexing\n",
    "Indexing means referring to an element of an iterable by its position within the iterable. Each of a string’s characters corresponds to an index number and each character can be accessed using its index number. We can access characters in a String in Two ways :\n",
    "\n",
    "Accessing Characters by Positive Index Number\n",
    "Accessing Characters by Negative Index Number\n",
    "\n",
    "Slicing\n",
    "Slicing in Python is a feature that enables accessing parts of the sequence. In slicing a string, we create a substring, which is essentially a string that exists within another string. We use slicing when we require a part of the string and not the complete string."
   ]
  },
  {
   "cell_type": "markdown",
   "id": "a501c3f5",
   "metadata": {},
   "source": [
    "## 13) What is the lambda function?\n",
    "A lambda function is a small anonymous function. A lambda function can take any number of arguments, but can only have one expression."
   ]
  },
  {
   "cell_type": "markdown",
   "id": "0e78962d",
   "metadata": {},
   "source": [
    "## 14) Explain zip() and enumerate() function.\n",
    "The stripplot will draw a scatterplot where one variable is categorical. A strip plot can be drawn on its own, but it is also a good complement to a box or violin plot in cases where you want to show all observations along with some representation of the underlying distribution.\n",
    "\n",
    "The swarmplot is similar to stripplot(), but the points are adjusted (only along the categorical axis) so that they don’t overlap. This gives a better representation of the distribution of values, although it does not scale as well to large numbers of observations (both in terms of the ability to show all the points and in terms of the computation needed to arrange them)."
   ]
  },
  {
   "cell_type": "markdown",
   "id": "cb582fc1",
   "metadata": {},
   "source": [
    "## 15) How do map, reduce and filter functions work?\n",
    "Map\n",
    "We can use the Python map function to generate a new list from another list. We will compare the loop, and map to generate a list containing squares of 1–10.\n",
    "\n",
    "Filter\n",
    "Similarly, we can use the filter method with a combination of a lambda function to filter out items from the list. In the next example, we will create a list of even numbers from 1 to 10 using the loop and filter method.\n",
    "Reduce\n",
    "\n",
    "Reduce function works like an aggregation function.\n",
    "\n",
    "At first step, first two elements of sequence are picked and the result is obtained.\n",
    "Next step is to apply the same function to the previously attained result and the number just succeeding the second element and the result is again stored.\n",
    "This process continues till no more elements are left in the container.\n",
    "The final returned result is returned and printed on console."
   ]
  },
  {
   "cell_type": "markdown",
   "id": "cc75e13c",
   "metadata": {},
   "source": [
    "## 16) What is the difference between del(), clear(), remove(),  and pop()?\n",
    "del() pop() remove() and clear() are all built in methods to remove items. Del() allows for deletion based on value while remove() and pop() remove based on index. Clear() removes all items in the data structure."
   ]
  },
  {
   "cell_type": "markdown",
   "id": "68ff084a",
   "metadata": {},
   "source": [
    "## 17) What is the difference between range, xrange and arange?\n",
    "For the most part, xrange and range are the exact same in terms of functionality. They both provide a way to generate a list of integers for you to use, however you please. The only difference is that range returns a Python list object and xrange returns an xrange object."
   ]
  },
  {
   "cell_type": "markdown",
   "id": "cf6aced3",
   "metadata": {},
   "source": [
    "## 18) What is the difference between pass, continue and break?\n",
    "pass is a null function and will be ignored, Break keyword exits the loop, and continue keyword stops the current iteration that's running and it proceeds with the next iteration."
   ]
  },
  {
   "cell_type": "markdown",
   "id": "fbae4ad1",
   "metadata": {},
   "source": [
    "## 19) What is Regex? List some of the important Regex functions.\n",
    "Regex, \"regular expression\", is a sequence of characters that is used as a pattern in a search function. Regex checks the contents of a string to match characters.\n",
    "Important functions: \n",
    "findall: return all matches\n",
    "search: returns \"Match\" object if there is a match in the string\n",
    "split: returns a list where the string has been split. Each split begins at a match.\n",
    "sub: replaces one or many matches with a string"
   ]
  },
  {
   "cell_type": "markdown",
   "id": "a61e05b0",
   "metadata": {},
   "source": [
    "## 20) What are namespaces in Python?\n",
    "Namespaces in Python. A namespace is a collection of currently defined symbolic names along with information about the object that each name references. You can think of a namespace as a dictionary in which the keys are the object names and the values are the objects themselves."
   ]
  },
  {
   "cell_type": "markdown",
   "id": "a74e1ce4",
   "metadata": {},
   "source": [
    "## 21) What is the difference between global and local variables?\n",
    "Global Variable are accessible from everywhere and initialized outside of a function. Local Variables are initialized usually inside function or inside a specific scope that the local variable will only be accessible in."
   ]
  },
  {
   "cell_type": "markdown",
   "id": "0ff94186",
   "metadata": {},
   "source": [
    "## 22) What is a default value?\n",
    "Python has a different way of representing syntax and default values for function arguments. Default values indicate that the function argument will take that value if no argument value is passed during the function call. The default value is assigned by using the assignment(=) operator of the form keywordname=value."
   ]
  },
  {
   "cell_type": "markdown",
   "id": "6d15dcc4",
   "metadata": {},
   "source": [
    "## 23) What does *args, **kwargs mean? When are these used?\n",
    "The Python *args method represents a varied number of arguments. It lets you pass arguments to a function when you are unsure how many arguments you want to pass.\n",
    "\n",
    "The term “args” is a placeholder. In your function, you can replace the name of “args” with any value. You could use “numbers” to represent a list of numbers or “student” to represent a students’ details.  \n",
    "\n",
    "The **kwargs keyword represents an arbitrary number of arguments that are passed to a function. **kwargs keywords are stored in a dictionary. You can access each item by referring to the keyword you associated with an argument when you passed the argument.\n",
    "\n",
    "We use *args and **kwargs as an argument when we are unsure about the number of arguments to pass in the functions."
   ]
  },
  {
   "cell_type": "markdown",
   "id": "d0cce7d3",
   "metadata": {},
   "source": [
    "## 24) What is the difference between print and return?\n",
    "Print will output the given input to the console; whether it's a string, variable, or function. Return is similar but will not output directly to the console unless specified and may be used to pass data between functions."
   ]
  },
  {
   "cell_type": "markdown",
   "id": "95399d7c",
   "metadata": {},
   "source": [
    "## 25) What is the use of the With statement?\n",
    "Introduction to MySQL WITH Clause. MySQL WITH clause is used to define the CTE (Common table expressions). A common table expression is a named temporary result set that can be used multiple times. The CTE can be defined using WITH clause and can have one or more sub-clauses separated by a comma."
   ]
  },
  {
   "cell_type": "markdown",
   "id": "55d43d1b",
   "metadata": {},
   "source": [
    "## 26) What is the difference between conditionals and control flows?\n",
    "Conditionals are used to create control flow and control flow is the cause of using conditionals to remove and narrow down cases to your desired outcome."
   ]
  },
  {
   "cell_type": "markdown",
   "id": "e2916600",
   "metadata": {},
   "source": [
    "## 27) How is exception handling achieved in Python?\n",
    "In Python, exceptions can be handled using a try statement. The critical operation which can raise an exception is placed inside the try clause. The code that handles the exceptions is written in the except clause. We can thus choose what operations to perform once we have caught the exception."
   ]
  },
  {
   "cell_type": "markdown",
   "id": "1d9793ed",
   "metadata": {},
   "source": [
    "## 28) What is for loop and how is it different from while loop?\n",
    "A for loop is used for iterating over a sequence (that is either a list, a tuple, a dictionary, a set, or a string). This is less like the for keyword in other programming languages, and works more like an iterator method as found in other object-orientated programming languages.\n",
    "\n",
    "For loop allows a programmer to execute a sequence of statements several times, it abbreviates the code which helps to manage loop variables. While loop allows a programmer to repeat a single statement or a group of statements for the TRUE condition. It verifies the condition before executing the loop."
   ]
  },
  {
   "cell_type": "markdown",
   "id": "27a55440",
   "metadata": {},
   "source": [
    "## 29) What is class and object?\n",
    " What is a class? What is an object? - https://docs.python.org/3/tutorial/classes.html Class: Classes allow the bundling of data and functionality into one object. Creating a class creates a new type of object which allows new instances of that type to be made. Instances can have methods for modifying its state.\n",
    "\n",
    "Object: An object is an instance of a class. A class is a sort of blueprint; an object is an implementation of that blueprint. For instance, if we had a class called \"Car\" with various functions like drive_forward and states like gas_tank_full, a \"Car\" object would be a specific car instance i.e. \"Ford Model A\"."
   ]
  },
  {
   "cell_type": "markdown",
   "id": "4fc84b14",
   "metadata": {},
   "source": [
    "## 30) What is docstring?\n",
    "A Python docstring is a string used to document a Python module, class, function or method, so programmers can understand what it does without having to read the details of the implementation. Also, it is a common practice to generate online (html) documentation automatically from docstrings."
   ]
  },
  {
   "cell_type": "markdown",
   "id": "828c9a07",
   "metadata": {},
   "source": [
    "#  Pandas and Visualization"
   ]
  },
  {
   "cell_type": "markdown",
   "id": "4d98d8a2",
   "metadata": {},
   "source": [
    "## 31) What is the difference between series and vectors?\n",
    "Series is a one-dimensional labeled array capable of holding any data type (integers, strings, floating point numbers, Python objects, etc.). The axis labels are collectively referred to as the index.\n",
    "\n",
    "Series is a one-dimensional labeled array capable of holding any data type (integers, strings, floating point numbers, Python objects, etc.). The axis labels are collectively referred to as the index."
   ]
  },
  {
   "cell_type": "markdown",
   "id": "d8163142",
   "metadata": {},
   "source": [
    "## 32) What is the difference between data frames and matrices?\n",
    "Both represent 'rectangular' data types, meaning that they are used to store tabular data, with rows and columns. The main difference, as you'll see, is that matrices can only contain a single class of data, while data frames can consist of many different classes of data"
   ]
  },
  {
   "cell_type": "markdown",
   "id": "a3abf37c",
   "metadata": {},
   "source": [
    "## 33) What is the difference between lists and arrays?\n",
    "An array is faster than a list in python since all the elements stored in an array are homogeneous i.e., they have the same data type whereas a list contains heterogeneous elements. Moreover, Python arrays are implemented in C which makes it a lot faster than lists that are built-in in Python itself.\n"
   ]
  },
  {
   "cell_type": "markdown",
   "id": "984d0532",
   "metadata": {},
   "source": [
    "## 34) What is the difference between .iloc and .loc?\n",
    "difference between loc and iloc: loc will include the last element of the row/column selected, iloc will not. loc can accept boolean data, iloc cannot."
   ]
  },
  {
   "cell_type": "markdown",
   "id": "ae855295",
   "metadata": {},
   "source": [
    "## 35) What is the difference between merge, join and concatenate?\n",
    "https://towardsdatascience.com/3-key-differences-between-merge-and-concat-functions-of-pandas-ab2bab224b59"
   ]
  },
  {
   "cell_type": "markdown",
   "id": "14f43bc4",
   "metadata": {},
   "source": [
    "## 36) What is the apply() function?\n",
    "The pandas apply method allows for us to apply a function to every row of a dataframe at a faster rate than a using a for loop to iterate through the Dataframe"
   ]
  },
  {
   "cell_type": "markdown",
   "id": "7af1898d",
   "metadata": {},
   "source": [
    "## 37) When do we use pivot_table and when do we use crosstab?\n",
    "Despite their obvious similarities, however, the two also have some very obvious differences. Pivot tables generally offer a batch of added benefits and features that may not be available with crosstabs. ‍Crosstabs let you quickly compare, contrast and otherwise assess sales activity based on the variables you chose."
   ]
  },
  {
   "cell_type": "markdown",
   "id": "14c6dc06",
   "metadata": {},
   "source": [
    "## 38) How do you use groupby?\n",
    "The GROUP BY statement groups rows that have the same values into summary rows, like \"find the number of customers in each country\". The GROUP BY statement is often used with aggregate functions ( COUNT() , MAX() , MIN() , SUM() , AVG() ) to group the result-set by one or more columns."
   ]
  },
  {
   "cell_type": "markdown",
   "id": "0eb2e1dc",
   "metadata": {},
   "source": [
    "## 39) What are ways to reshape a pandas dataframe?\n",
    "\n",
    "https://pandas.pydata.org/docs/user_guide/reshaping.html"
   ]
  },
  {
   "cell_type": "markdown",
   "id": "f6ffe154",
   "metadata": {},
   "source": [
    "## 40) What is the difference between duplicated and drop_duplicates?\n",
    "https://stackoverflow.com/questions/41308763/python-pandas-df-duplicated-and-df-drop-duplicated-not-finding-all-duplicates\n",
    "https://pandas.pydata.org/pandas-docs/stable/reference/api/pandas.DataFrame.drop_duplicates.html\n",
    "https://pandas.pydata.org/pandas-docs/stable/reference/api/pandas.DataFrame.duplicated.html\n",
    "A very high level difference is that merge() is used to combine two (or more) dataframes on the basis of values of common columns (indices can also be used, use left_index=True and/or right_index=True), and concat() is used to append one (or more) dataframes one below the other (or sideways, depending on whether the axis option is set to 0 or 1).\n",
    "\n",
    "join() is used to merge 2 dataframes on the basis of the index; instead of using merge() with the option left_index=True we can use join()."
   ]
  },
  {
   "cell_type": "markdown",
   "id": "262ebf74",
   "metadata": {},
   "source": [
    "## 41) Which all Python libraries have you used for visualization? \n",
    "Seaborn, Matplotlib, Folium, "
   ]
  },
  {
   "cell_type": "markdown",
   "id": "7ecff42e",
   "metadata": {},
   "source": [
    "## 42) List some of the categorical, distribution plots.\n",
    "https://inferentialthinking.com/chapters/07/1/Visualizing_Categorical_Distributions.html"
   ]
  },
  {
   "cell_type": "markdown",
   "id": "2829f095",
   "metadata": {},
   "source": [
    "## 43) What is a scatter plot?\n",
    "A scatter plot (aka scatter chart, scatter graph) uses dots to represent values for two different numeric variables. The position of each dot on the horizontal and vertical axis indicates values for an individual data point. Scatter plots are used to observe relationships between variables."
   ]
  },
  {
   "cell_type": "markdown",
   "id": "f69f069c",
   "metadata": {},
   "source": [
    "## 44) What is the difference between regplot(), lmplot() and residplot()?\n",
    "regplot() performs a simple linear regression model fit and plot. lmplot() combines regplot() and FacetGrid.\n",
    "\n",
    "The FacetGrid class helps in visualizing the distribution of one variable as well as the relationship between multiple variables separately within subsets of your dataset using multiple panels.\n",
    "\n",
    "lmplot() is more computationally intensive and is intended as a convenient interface to fit regression models across conditional subsets of a dataset.\n",
    "\n",
    "residplot\n",
    "Plot the residuals of a linear regression.\n",
    "\n",
    "This function will regress y on x (possibly as a robust or polynomial regression) and then draw a scatterplot of the residuals. You can optionally fit a lowess smoother to the residual plot, which can help in determining if there is structure to the residuals."
   ]
  },
  {
   "cell_type": "markdown",
   "id": "18dddd68",
   "metadata": {},
   "source": [
    "## 45) What is a heatmap?\n",
    "sns.heatmap()\n",
    "A heatmap is a plot of rectangular data as a color-encoded matrix. As parameter it takes a 2D dataset. That dataset can be coerced into an ndarray. This is a great way to visualize data, because it can show the relation between variabels including time."
   ]
  },
  {
   "cell_type": "markdown",
   "id": "0c85cd90",
   "metadata": {},
   "source": [
    "## 46) What is the difference between stripplot() and swarmplot()?\n",
    "The stripplot will draw a scatterplot where one variable is categorical. A strip plot can be drawn on its own, but it is also a good complement to a box or violin plot in cases where you want to show all observations along with some representation of the underlying distribution.\n",
    "\n",
    "The swarmplot is similar to stripplot(), but the points are adjusted (only along the categorical axis) so that they don’t overlap. This gives a better representation of the distribution of values, although it does not scale as well to large numbers of observations (both in terms of the ability to show all the points and in terms of the computation needed to arrange them)."
   ]
  },
  {
   "cell_type": "markdown",
   "id": "6c9daf43",
   "metadata": {},
   "source": [
    "## 47) What is the purpose of density plot or  kde plot? Where are these used?\n",
    "KDE Plot described as Kernel Density Estimate is used for visualizing the Probability Density of a continuous variable. It depicts the probability density at different values in a continuous variable. We can also plot a single graph for multiple samples which helps in more efficient data visualization."
   ]
  },
  {
   "cell_type": "markdown",
   "id": "3a7182dd",
   "metadata": {},
   "source": [
    "## 48) How is violinplot() different from boxplot()?\n",
    "https://matplotlib.org/3.1.1/gallery/statistics/boxplot_vs_violin.html\n"
   ]
  },
  {
   "cell_type": "markdown",
   "id": "56bd9404",
   "metadata": {},
   "source": [
    "## 49) What is FacetGrid?\n",
    "seaborn.FacetGrid()\n",
    "\n",
    "Facetgrid maps the dataset onto multiple axes arrayed in a grid of rows and columns which will corresspons to levels of variables in the dataset\n",
    "FacetGrid class helps in visualizing distribution of one variable as well as the relationship between multiple variables separately within subsets of your dataset using multiple panels."
   ]
  },
  {
   "cell_type": "markdown",
   "id": "31a675ed",
   "metadata": {},
   "source": [
    "## 50) What is a Pairplot?\n",
    "seaborn.pairplot()\n",
    "A pairplot plot a pairwise relationships in a dataset. The pairplot function creates a grid of Axes such that each variable in data will by shared in the y-axis across a single row and in the x-axis across a single column. That creates plots as shown below."
   ]
  },
  {
   "cell_type": "markdown",
   "id": "80ceda1d",
   "metadata": {},
   "source": [
    "# Add section for git commands"
   ]
  },
  {
   "cell_type": "markdown",
   "id": "06a3caac",
   "metadata": {},
   "source": [
    "# Python Review Questions"
   ]
  },
  {
   "cell_type": "markdown",
   "id": "346fd292",
   "metadata": {},
   "source": [
    "## What is Git?\n",
    "Git is a mature, actively maintained open source project originally developed in 2005 by Linus Torvalds, the famous creator of the Linux operating system kernel."
   ]
  },
  {
   "cell_type": "markdown",
   "id": "4dc2b61c",
   "metadata": {},
   "source": [
    "## What about GitHub? How are they related?\n",
    "https://github.com/"
   ]
  },
  {
   "cell_type": "markdown",
   "id": "091f2be0",
   "metadata": {},
   "source": [
    "## What command moves changes from GitHub to our local repo?\n",
    "git clone https://rep@github.com"
   ]
  },
  {
   "cell_type": "markdown",
   "id": "b6839e6b",
   "metadata": {},
   "source": [
    "## What command moves changes from our local repo to GitHub?\n",
    "git push"
   ]
  },
  {
   "cell_type": "markdown",
   "id": "7de1d803",
   "metadata": {},
   "source": [
    " ## What two commands are used in sequence to save changes to our local repo?\n",
    "\n",
    "1) What is the difference between an interpreter and a compiler? Which does Python use?\n",
    "    \n",
    "    Python is an interpreted language. Python is interpreted into byte code and executed by the python virtual machine.\n",
    "\n",
    "    Second, compilation is not restricted to ahead-of-time compilation to native machine code. A compiler is, more generally, a program that converts a program in one programming language into a program in another programming language "
   ]
  },
  {
   "cell_type": "markdown",
   "id": "69a59ff5",
   "metadata": {},
   "source": [
    "    \n",
    "2) What is a REPL?\n",
    "    *  Read - read in data \n",
    "    * Evaluate evaluate the data\n",
    "    * Print\n",
    "    * Loop - print the data \n",
    "    The python execution loop that read evaluates and prints data."
   ]
  },
  {
   "cell_type": "markdown",
   "id": "9de85164",
   "metadata": {},
   "source": [
    "3) What is a compound statement?\n",
    "A compound statement contains groups of other statements and used to control the execution of the statements"
   ]
  },
  {
   "cell_type": "markdown",
   "id": "69e39a32",
   "metadata": {},
   "source": [
    "4) What data types do we have by default in Python?\n",
    "What data types do we have by default?\n",
    "\ttext(str), numeric(int, float, complex), sequence(list,tuple,range), mapping(dict), set(set, frozenset), boolean(bool), binary(bytes,bytearray,memoryview), none(nonetype)\n",
    "    "
   ]
  },
  {
   "cell_type": "markdown",
   "id": "85a9ecef",
   "metadata": {},
   "source": [
    "5) What is a namespace?\n",
    "Namespaces in Python. A namespace is a collection of currently defined symbolic names along with information about the object that each name references. You can think of a namespace as a dictionary in which the keys are the object names and the values are the objects themselves.\n",
    "better answer to number 5)  there are four types of namespaces:\n",
    "https://realpython.com/python-namespaces-scope/\n",
    "Built-In\n",
    "Global\n",
    "Enclosing\n",
    "Local"
   ]
  },
  {
   "cell_type": "markdown",
   "id": "b6fee666",
   "metadata": {},
   "source": [
    "6) What is the scope of a variable?\n",
    "    Scope of the variable refers to the context in which a variable is available\n",
    "    - Global\n",
    "    - Local\n",
    "    - built-in\n",
    "    "
   ]
  },
  {
   "cell_type": "markdown",
   "id": "58234086",
   "metadata": {},
   "source": [
    "    \n",
    "7) What are the different operators we have in Python?\n",
    "\n",
    "    - Arithmetic operators\n",
    "    - Assignment operators\n",
    "    - Comparison operators\n",
    "    - Logical operators\n",
    "    - Identity operators\n",
    "    - Membership operators\n",
    "    - Bitwise operators\n",
    "    https://www.w3schools.com/python/python_operators.asp\n"
   ]
  },
  {
   "cell_type": "markdown",
   "id": "9b789d93",
   "metadata": {},
   "source": [
    "    \n",
    "8) What are functions?\n",
    "A function is a block of code which only runs when it is called. You can pass data, known as parameters, into a function. A function can return data as a result."
   ]
  },
  {
   "cell_type": "markdown",
   "id": "2526d344",
   "metadata": {},
   "source": [
    "9) What is a lambda function? What is the syntax for creating a lambda?\n",
    "\n",
    "A lambda function is a small anonymous function.\n",
    "\n",
    "A lambda function can take any number of arguments, but can only have one expression.lambda arguments : expression"
   ]
  },
  {
   "cell_type": "markdown",
   "id": "20aed1ca",
   "metadata": {},
   "source": [
    "10) What is a list?\n",
    "\t- https://docs.python.org/3/tutorial/datastructures.html"
   ]
  },
  {
   "cell_type": "markdown",
   "id": "30ef665e",
   "metadata": {},
   "source": [
    "11) What is a set?\n",
    "A set is an unordered, unchangeable, and unindexed built in data structure. It is unique in the fact that it will not allow duplicates and is uniquely used over other data structures to remove duplicates."
   ]
  },
  {
   "cell_type": "markdown",
   "id": "fce11591",
   "metadata": {},
   "source": [
    "12) What is a tuple?\n",
    "Tuples are used to store multiple items in a single variable.\n",
    " Built-in data type.\n",
    "\n",
    "A tuple is a collection which is ordered and unchangeable.\n",
    "\n",
    "Tuples are written with round brackets.\n",
    "ex. thistuple = (\"apple\", \"banana\", \"cherry\")"
   ]
  },
  {
   "cell_type": "markdown",
   "id": "0ecb2d60",
   "metadata": {},
   "source": [
    "13) What is a Dictionary?\n",
    "\n",
    "Dictionaries are used to store data values in key:value pairs. A dictionary is a collection which is ordered*, changeable and do not allow duplicates. As of Python version 3.7, dictionaries are ordered. In Python 3.6 and earlier, dictionaries are unordered."
   ]
  },
  {
   "cell_type": "markdown",
   "id": "81ac6701",
   "metadata": {},
   "source": [
    "14) How can we open a file? What are the different modes for opening a file?\n",
    "\t- https://docs.python.org/3/tutorial/inputoutput.html\n",
    "How to open file? use open() function. returns a file object; used with two positional arguments and one keyword argument\n",
    "open(filename, mode, encoding=None)\n",
    ">>> f = open('workfile', 'w', encoding=\"utf-8\")\n",
    "\t\t\n",
    "Different modes: text mode(read and write strings to/from file, encoded, default platform encoding), and binary mode."
   ]
  },
  {
   "cell_type": "markdown",
   "id": "8c868205",
   "metadata": {},
   "source": [
    "15) What is a module? How do we import a module?\n",
    "\t- https://docs.python.org/3/tutorial/modules.html"
   ]
  },
  {
   "cell_type": "markdown",
   "id": "e5bb1f00",
   "metadata": {},
   "source": [
    "16) What is a datetime object?\n",
    "Datetime objects are from a python module that allows for interactions with date and time based on our time system. Datetime objects are objects and cannot be interacted as a string, requiring datetime functions and calls to manipulate and interact with."
   ]
  },
  {
   "cell_type": "markdown",
   "id": "a401dc9f",
   "metadata": {},
   "source": [
    "# 17) What are Regular Expressions? How do we use them?\n",
    "A RegEx, or Regular Expression, is a sequence of characters that forms a search pattern.\n",
    "\n",
    "RegEx can be used to check if a string contains the specified search pattern.\n",
    "source: https://www.w3schools.com/python/python_regex.asp"
   ]
  },
  {
   "cell_type": "markdown",
   "id": "02758a87",
   "metadata": {},
   "source": [
    "18) What are some data collections we have at our disposal in the Collections module?\n",
    "top 6  collections  1)OrderedDict  2)ChainMap 3)Counter 4)  Deque 5)Namedtuple() 6)Defaultdict"
   ]
  },
  {
   "cell_type": "markdown",
   "id": "baafcff2",
   "metadata": {},
   "source": [
    "19) What is a class? What is an object?\n",
    "\t- https://docs.python.org/3/tutorial/classes.html\n",
    "    Class: Classes allow the bundling of data and functionality into one object. \n",
    "Creating a class creates a new type of object which allows new instances of that type to be made. Instances can have methods for modifying its state.\n",
    "\n",
    "Object: An object is an instance of a class. A class is a sort of blueprint; an object is an implementation of that blueprint. \n",
    "For instance, if we had a class called \"Car\" with various functions like drive_forward and states like gas_tank_full, a \"Car\" object would be a specific car instance i.e. \"Ford Model A\"."
   ]
  },
  {
   "cell_type": "markdown",
   "id": "2b4a2405",
   "metadata": {},
   "source": [
    "20) What are the pillars of Object Oriented Programming? (OOP) Explain them.\n",
    "\t- https://medium.com/swlh/the-4-pillars-of-oop-in-python-9daaca4c0d13"
   ]
  },
  {
   "cell_type": "markdown",
   "id": "ed91ed29",
   "metadata": {},
   "source": [
    "# 21) Know the different flow control statements (if/elif/else, for loops, while loops, etc.)\n",
    "if/elif/else are used for control flow\n",
    "- for loops are used for iteration\n",
    "- while loops are iterators that iterate while a statement is true\n",
    "- or \n",
    "- and \n",
    "- in\n",
    "- pass\n",
    "- continue\n",
    "- break\n",
    "\n",
    "\n"
   ]
  },
  {
   "cell_type": "markdown",
   "id": "921bcbfe",
   "metadata": {},
   "source": [
    "# 22) What are exceptions? How can we handle them?\n",
    "\t- https://docs.python.org/3/tutorial/errors.html"
   ]
  }
 ],
 "metadata": {
  "kernelspec": {
   "display_name": "Python 3",
   "language": "python",
   "name": "python3"
  },
  "language_info": {
   "codemirror_mode": {
    "name": "ipython",
    "version": 3
   },
   "file_extension": ".py",
   "mimetype": "text/x-python",
   "name": "python",
   "nbconvert_exporter": "python",
   "pygments_lexer": "ipython3",
   "version": "3.8.8"
  }
 },
 "nbformat": 4,
 "nbformat_minor": 5
}
